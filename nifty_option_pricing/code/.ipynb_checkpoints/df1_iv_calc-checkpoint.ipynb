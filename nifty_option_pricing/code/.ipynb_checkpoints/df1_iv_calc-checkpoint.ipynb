{
 "cells": [
  {
   "cell_type": "code",
   "execution_count": 3,
   "id": "ed1fba6d",
   "metadata": {},
   "outputs": [],
   "source": [
    "import multiprocessing as mp\n",
    "import pandas as pd\n",
    "#from dateutil.relativedelta import relativedelta\n",
    "# from pandas.tseries.offsets import DateOffset\n",
    "# from pandas.tseries.offsets import MonthOffset\n",
    "\n",
    "# finnacial data\n",
    "# from nsepy import get_history\n",
    "# from nsepy.derivatives import get_expiry_date\n",
    "#import mibian\n",
    "\n",
    "# import iv calculation script for parallel processing\n",
    "import iv_calc"
   ]
  },
  {
   "cell_type": "code",
   "execution_count": 2,
   "id": "56103f46",
   "metadata": {},
   "outputs": [
    {
     "name": "stdout",
     "output_type": "stream",
     "text": [
      "<class 'pandas.core.frame.DataFrame'>\n",
      "RangeIndex: 31001 entries, 0 to 31000\n",
      "Data columns (total 9 columns):\n",
      " #   Column        Non-Null Count  Dtype  \n",
      "---  ------        --------------  -----  \n",
      " 0   Date          31001 non-null  object \n",
      " 1   Option Type   31001 non-null  object \n",
      " 2   Strike Price  31001 non-null  float64\n",
      " 3   close         31001 non-null  float64\n",
      " 4   Underlying    31001 non-null  float64\n",
      " 5   expiry        31001 non-null  object \n",
      " 6   futures       31001 non-null  float64\n",
      " 7   days2expiry   31001 non-null  int64  \n",
      " 8   atm_strike    31001 non-null  int64  \n",
      "dtypes: float64(4), int64(2), object(3)\n",
      "memory usage: 2.1+ MB\n",
      "None\n"
     ]
    },
    {
     "data": {
      "text/html": [
       "<div>\n",
       "<style scoped>\n",
       "    .dataframe tbody tr th:only-of-type {\n",
       "        vertical-align: middle;\n",
       "    }\n",
       "\n",
       "    .dataframe tbody tr th {\n",
       "        vertical-align: top;\n",
       "    }\n",
       "\n",
       "    .dataframe thead th {\n",
       "        text-align: right;\n",
       "    }\n",
       "</style>\n",
       "<table border=\"1\" class=\"dataframe\">\n",
       "  <thead>\n",
       "    <tr style=\"text-align: right;\">\n",
       "      <th></th>\n",
       "      <th>Date</th>\n",
       "      <th>Option Type</th>\n",
       "      <th>Strike Price</th>\n",
       "      <th>close</th>\n",
       "      <th>Underlying</th>\n",
       "      <th>expiry</th>\n",
       "      <th>futures</th>\n",
       "      <th>days2expiry</th>\n",
       "      <th>atm_strike</th>\n",
       "    </tr>\n",
       "  </thead>\n",
       "  <tbody>\n",
       "    <tr>\n",
       "      <th>0</th>\n",
       "      <td>2006-04-07</td>\n",
       "      <td>PE</td>\n",
       "      <td>3600.0</td>\n",
       "      <td>143.6</td>\n",
       "      <td>3454.80</td>\n",
       "      <td>2006-06-29</td>\n",
       "      <td>3454.80</td>\n",
       "      <td>83</td>\n",
       "      <td>3500</td>\n",
       "    </tr>\n",
       "    <tr>\n",
       "      <th>1</th>\n",
       "      <td>2006-04-10</td>\n",
       "      <td>PE</td>\n",
       "      <td>3600.0</td>\n",
       "      <td>143.6</td>\n",
       "      <td>3478.45</td>\n",
       "      <td>2006-06-29</td>\n",
       "      <td>3478.45</td>\n",
       "      <td>80</td>\n",
       "      <td>3500</td>\n",
       "    </tr>\n",
       "    <tr>\n",
       "      <th>2</th>\n",
       "      <td>2006-04-12</td>\n",
       "      <td>PE</td>\n",
       "      <td>3600.0</td>\n",
       "      <td>143.6</td>\n",
       "      <td>3380.00</td>\n",
       "      <td>2006-06-29</td>\n",
       "      <td>3380.00</td>\n",
       "      <td>78</td>\n",
       "      <td>3500</td>\n",
       "    </tr>\n",
       "  </tbody>\n",
       "</table>\n",
       "</div>"
      ],
      "text/plain": [
       "         Date Option Type  Strike Price  close  Underlying      expiry  \\\n",
       "0  2006-04-07          PE        3600.0  143.6     3454.80  2006-06-29   \n",
       "1  2006-04-10          PE        3600.0  143.6     3478.45  2006-06-29   \n",
       "2  2006-04-12          PE        3600.0  143.6     3380.00  2006-06-29   \n",
       "\n",
       "   futures  days2expiry  atm_strike  \n",
       "0  3454.80           83        3500  \n",
       "1  3478.45           80        3500  \n",
       "2  3380.00           78        3500  "
      ]
     },
     "execution_count": 2,
     "metadata": {},
     "output_type": "execute_result"
    }
   ],
   "source": [
    "df1 = pd.read_csv('../data_output/df1.csv')\n",
    "print(df1.info())\n",
    "df1.head(3)"
   ]
  },
  {
   "cell_type": "code",
   "execution_count": 26,
   "id": "621b40a0",
   "metadata": {},
   "outputs": [
    {
     "name": "stdout",
     "output_type": "stream",
     "text": [
      "Number of processors:  4\n"
     ]
    }
   ],
   "source": [
    "# get cpu count for parallelization\n",
    "num_proc = mp.cpu_count()\n",
    "print('Number of processors: ', num_proc)"
   ]
  },
  {
   "cell_type": "code",
   "execution_count": 27,
   "id": "543588ee",
   "metadata": {},
   "outputs": [],
   "source": [
    "def parallelize_df(df, func, n_cores = num_proc):\n",
    "    df_split = np.array_split(df, n_cores)\n",
    "    pool = mp.Pool(n_cores)\n",
    "    df = pd.concat(pool.map(func, df_split))\n",
    "    pool.close()\n",
    "    pool.join()\n",
    "    return df"
   ]
  },
  {
   "cell_type": "code",
   "execution_count": null,
   "id": "0c3ff346",
   "metadata": {},
   "outputs": [],
   "source": [
    "start = time.perf_counter()\n",
    "option2 = parallelize_df(df1, iv_calc.iv_function)\n",
    "end = time.perf_counter()\n",
    "end-start"
   ]
  },
  {
   "cell_type": "code",
   "execution_count": null,
   "id": "69a58ff5",
   "metadata": {},
   "outputs": [],
   "source": [
    "df1.to_csv('option_iv_calc.csv', index = False)"
   ]
  },
  {
   "cell_type": "code",
   "execution_count": null,
   "id": "eec46f94",
   "metadata": {},
   "outputs": [],
   "source": []
  }
 ],
 "metadata": {
  "kernelspec": {
   "display_name": "Python 3",
   "language": "python",
   "name": "python3"
  },
  "language_info": {
   "codemirror_mode": {
    "name": "ipython",
    "version": 3
   },
   "file_extension": ".py",
   "mimetype": "text/x-python",
   "name": "python",
   "nbconvert_exporter": "python",
   "pygments_lexer": "ipython3",
   "version": "3.6.13"
  }
 },
 "nbformat": 4,
 "nbformat_minor": 5
}
