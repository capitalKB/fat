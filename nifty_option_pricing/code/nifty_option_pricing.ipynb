{
 "cells": [
  {
   "cell_type": "code",
   "execution_count": 1,
   "id": "general-training",
   "metadata": {},
   "outputs": [],
   "source": [
    "# use python 3.6 to download option data from nsepy\n",
    "import time\n",
    "import datetime\n",
    "from datetime import date\n",
    "\n",
    "import multiprocessing as mp\n",
    "import os\n",
    "import random\n",
    "import pandas as pd\n",
    "import matplotlib.pyplot as plt\n",
    "import numpy as np\n",
    "from dateutil.relativedelta import relativedelta\n",
    "# from pandas.tseries.offsets import DateOffset\n",
    "# from pandas.tseries.offsets import MonthOffset\n",
    "\n",
    "# finnacial data\n",
    "# from nsepy import get_history\n",
    "# from nsepy.derivatives import get_expiry_date\n",
    "import mibian\n",
    "\n",
    "# import iv calculation script for parallel processing\n",
    "import iv_calc"
   ]
  },
  {
   "cell_type": "code",
   "execution_count": 2,
   "id": "existing-gates",
   "metadata": {
    "scrolled": true
   },
   "outputs": [
    {
     "data": {
      "text/html": [
       "<div>\n",
       "<style scoped>\n",
       "    .dataframe tbody tr th:only-of-type {\n",
       "        vertical-align: middle;\n",
       "    }\n",
       "\n",
       "    .dataframe tbody tr th {\n",
       "        vertical-align: top;\n",
       "    }\n",
       "\n",
       "    .dataframe thead th {\n",
       "        text-align: right;\n",
       "    }\n",
       "</style>\n",
       "<table border=\"1\" class=\"dataframe\">\n",
       "  <thead>\n",
       "    <tr style=\"text-align: right;\">\n",
       "      <th></th>\n",
       "      <th>Date</th>\n",
       "      <th>Symbol</th>\n",
       "      <th>Expiry</th>\n",
       "      <th>Option Type</th>\n",
       "      <th>Strike Price</th>\n",
       "      <th>Open</th>\n",
       "      <th>High</th>\n",
       "      <th>Low</th>\n",
       "      <th>Close</th>\n",
       "      <th>Last</th>\n",
       "      <th>Settle Price</th>\n",
       "      <th>Number of Contracts</th>\n",
       "      <th>Turnover</th>\n",
       "      <th>Premium Turnover</th>\n",
       "      <th>Open Interest</th>\n",
       "      <th>Change in OI</th>\n",
       "      <th>Underlying</th>\n",
       "    </tr>\n",
       "  </thead>\n",
       "  <tbody>\n",
       "    <tr>\n",
       "      <th>0</th>\n",
       "      <td>2006-04-07</td>\n",
       "      <td>NIFTY</td>\n",
       "      <td>2006-06-29</td>\n",
       "      <td>PE</td>\n",
       "      <td>3600.0</td>\n",
       "      <td>0.0</td>\n",
       "      <td>0.0</td>\n",
       "      <td>0.0</td>\n",
       "      <td>143.6</td>\n",
       "      <td>0.0</td>\n",
       "      <td>180.15</td>\n",
       "      <td>0</td>\n",
       "      <td>0.0</td>\n",
       "      <td>NaN</td>\n",
       "      <td>0</td>\n",
       "      <td>0</td>\n",
       "      <td>3454.80</td>\n",
       "    </tr>\n",
       "    <tr>\n",
       "      <th>1</th>\n",
       "      <td>2006-04-10</td>\n",
       "      <td>NIFTY</td>\n",
       "      <td>2006-06-29</td>\n",
       "      <td>PE</td>\n",
       "      <td>3600.0</td>\n",
       "      <td>0.0</td>\n",
       "      <td>0.0</td>\n",
       "      <td>0.0</td>\n",
       "      <td>143.6</td>\n",
       "      <td>0.0</td>\n",
       "      <td>163.55</td>\n",
       "      <td>0</td>\n",
       "      <td>0.0</td>\n",
       "      <td>NaN</td>\n",
       "      <td>0</td>\n",
       "      <td>0</td>\n",
       "      <td>3478.45</td>\n",
       "    </tr>\n",
       "    <tr>\n",
       "      <th>2</th>\n",
       "      <td>2006-04-12</td>\n",
       "      <td>NIFTY</td>\n",
       "      <td>2006-06-29</td>\n",
       "      <td>PE</td>\n",
       "      <td>3600.0</td>\n",
       "      <td>0.0</td>\n",
       "      <td>0.0</td>\n",
       "      <td>0.0</td>\n",
       "      <td>143.6</td>\n",
       "      <td>0.0</td>\n",
       "      <td>245.15</td>\n",
       "      <td>0</td>\n",
       "      <td>0.0</td>\n",
       "      <td>NaN</td>\n",
       "      <td>0</td>\n",
       "      <td>0</td>\n",
       "      <td>3380.00</td>\n",
       "    </tr>\n",
       "  </tbody>\n",
       "</table>\n",
       "</div>"
      ],
      "text/plain": [
       "        Date Symbol     Expiry Option Type  Strike Price  Open  High  Low  \\\n",
       "0 2006-04-07  NIFTY 2006-06-29          PE        3600.0   0.0   0.0  0.0   \n",
       "1 2006-04-10  NIFTY 2006-06-29          PE        3600.0   0.0   0.0  0.0   \n",
       "2 2006-04-12  NIFTY 2006-06-29          PE        3600.0   0.0   0.0  0.0   \n",
       "\n",
       "   Close  Last  Settle Price  Number of Contracts  Turnover  Premium Turnover  \\\n",
       "0  143.6   0.0        180.15                    0       0.0               NaN   \n",
       "1  143.6   0.0        163.55                    0       0.0               NaN   \n",
       "2  143.6   0.0        245.15                    0       0.0               NaN   \n",
       "\n",
       "   Open Interest  Change in OI  Underlying  \n",
       "0              0             0     3454.80  \n",
       "1              0             0     3478.45  \n",
       "2              0             0     3380.00  "
      ]
     },
     "execution_count": 2,
     "metadata": {},
     "output_type": "execute_result"
    }
   ],
   "source": [
    "# read in OHLC data\n",
    "option_raw = pd.read_csv('../data_output/nifty_15yr_data.csv', parse_dates = ['Date', 'Expiry'], infer_datetime_format = True, header = 0)\n",
    "option_raw.info\n",
    "option_raw.head(n=3)"
   ]
  },
  {
   "cell_type": "code",
   "execution_count": 3,
   "id": "ambient-pathology",
   "metadata": {},
   "outputs": [
    {
     "name": "stdout",
     "output_type": "stream",
     "text": [
      "Date            datetime64[ns]\n",
      "Expiry          datetime64[ns]\n",
      "Option Type             object\n",
      "Strike Price           float64\n",
      "Close                  float64\n",
      "Underlying             float64\n",
      "dtype: object\n",
      "(155846, 6)\n"
     ]
    },
    {
     "data": {
      "text/html": [
       "<div>\n",
       "<style scoped>\n",
       "    .dataframe tbody tr th:only-of-type {\n",
       "        vertical-align: middle;\n",
       "    }\n",
       "\n",
       "    .dataframe tbody tr th {\n",
       "        vertical-align: top;\n",
       "    }\n",
       "\n",
       "    .dataframe thead th {\n",
       "        text-align: right;\n",
       "    }\n",
       "</style>\n",
       "<table border=\"1\" class=\"dataframe\">\n",
       "  <thead>\n",
       "    <tr style=\"text-align: right;\">\n",
       "      <th></th>\n",
       "      <th>Date</th>\n",
       "      <th>Expiry</th>\n",
       "      <th>Option Type</th>\n",
       "      <th>Strike Price</th>\n",
       "      <th>Close</th>\n",
       "      <th>Underlying</th>\n",
       "    </tr>\n",
       "  </thead>\n",
       "  <tbody>\n",
       "    <tr>\n",
       "      <th>0</th>\n",
       "      <td>2006-04-07</td>\n",
       "      <td>2006-06-29</td>\n",
       "      <td>PE</td>\n",
       "      <td>3600.0</td>\n",
       "      <td>143.6</td>\n",
       "      <td>3454.80</td>\n",
       "    </tr>\n",
       "    <tr>\n",
       "      <th>1</th>\n",
       "      <td>2006-04-10</td>\n",
       "      <td>2006-06-29</td>\n",
       "      <td>PE</td>\n",
       "      <td>3600.0</td>\n",
       "      <td>143.6</td>\n",
       "      <td>3478.45</td>\n",
       "    </tr>\n",
       "    <tr>\n",
       "      <th>2</th>\n",
       "      <td>2006-04-12</td>\n",
       "      <td>2006-06-29</td>\n",
       "      <td>PE</td>\n",
       "      <td>3600.0</td>\n",
       "      <td>143.6</td>\n",
       "      <td>3380.00</td>\n",
       "    </tr>\n",
       "  </tbody>\n",
       "</table>\n",
       "</div>"
      ],
      "text/plain": [
       "        Date     Expiry Option Type  Strike Price  Close  Underlying\n",
       "0 2006-04-07 2006-06-29          PE        3600.0  143.6     3454.80\n",
       "1 2006-04-10 2006-06-29          PE        3600.0  143.6     3478.45\n",
       "2 2006-04-12 2006-06-29          PE        3600.0  143.6     3380.00"
      ]
     },
     "execution_count": 3,
     "metadata": {},
     "output_type": "execute_result"
    }
   ],
   "source": [
    "# subset relevant columns; chekc date\n",
    "option = option_raw[['Date', 'Expiry', 'Option Type', 'Strike Price', 'Close', 'Underlying']]\n",
    "print(option.dtypes)\n",
    "print(option.shape)\n",
    "option.head(3)"
   ]
  },
  {
   "cell_type": "code",
   "execution_count": 4,
   "id": "9515a357",
   "metadata": {},
   "outputs": [
    {
     "data": {
      "text/plain": [
       "CE    77948\n",
       "PE    77898\n",
       "Name: Option Type, dtype: int64"
      ]
     },
     "execution_count": 4,
     "metadata": {},
     "output_type": "execute_result"
    }
   ],
   "source": [
    "option['Option Type'].value_counts() # should be equal"
   ]
  },
  {
   "cell_type": "code",
   "execution_count": 5,
   "id": "elect-camcorder",
   "metadata": {
    "scrolled": false
   },
   "outputs": [
    {
     "data": {
      "text/html": [
       "<div>\n",
       "<style scoped>\n",
       "    .dataframe tbody tr th:only-of-type {\n",
       "        vertical-align: middle;\n",
       "    }\n",
       "\n",
       "    .dataframe tbody tr th {\n",
       "        vertical-align: top;\n",
       "    }\n",
       "\n",
       "    .dataframe thead th {\n",
       "        text-align: right;\n",
       "    }\n",
       "</style>\n",
       "<table border=\"1\" class=\"dataframe\">\n",
       "  <thead>\n",
       "    <tr style=\"text-align: right;\">\n",
       "      <th></th>\n",
       "      <th>Date</th>\n",
       "      <th>Change in OI</th>\n",
       "      <th>Close</th>\n",
       "      <th>Expiry</th>\n",
       "      <th>High</th>\n",
       "      <th>Last</th>\n",
       "      <th>Low</th>\n",
       "      <th>Number of Contracts</th>\n",
       "      <th>Open</th>\n",
       "      <th>Open Interest</th>\n",
       "      <th>Settle Price</th>\n",
       "      <th>Symbol</th>\n",
       "      <th>Turnover</th>\n",
       "      <th>Underlying</th>\n",
       "      <th>Volume</th>\n",
       "      <th>expiry</th>\n",
       "    </tr>\n",
       "  </thead>\n",
       "  <tbody>\n",
       "    <tr>\n",
       "      <th>11586</th>\n",
       "      <td>2020-12-29</td>\n",
       "      <td>NaN</td>\n",
       "      <td>13932.60</td>\n",
       "      <td>NaT</td>\n",
       "      <td>13967.60</td>\n",
       "      <td>NaN</td>\n",
       "      <td>13859.90</td>\n",
       "      <td>NaN</td>\n",
       "      <td>13910.35</td>\n",
       "      <td>NaN</td>\n",
       "      <td>NaN</td>\n",
       "      <td>NaN</td>\n",
       "      <td>2.515423e+11</td>\n",
       "      <td>NaN</td>\n",
       "      <td>439593961.0</td>\n",
       "      <td>2020-12-31</td>\n",
       "    </tr>\n",
       "    <tr>\n",
       "      <th>11587</th>\n",
       "      <td>2020-12-30</td>\n",
       "      <td>NaN</td>\n",
       "      <td>13981.95</td>\n",
       "      <td>NaT</td>\n",
       "      <td>13997.00</td>\n",
       "      <td>NaN</td>\n",
       "      <td>13864.95</td>\n",
       "      <td>NaN</td>\n",
       "      <td>13980.90</td>\n",
       "      <td>NaN</td>\n",
       "      <td>NaN</td>\n",
       "      <td>NaN</td>\n",
       "      <td>2.463312e+11</td>\n",
       "      <td>NaN</td>\n",
       "      <td>380681073.0</td>\n",
       "      <td>2020-12-31</td>\n",
       "    </tr>\n",
       "    <tr>\n",
       "      <th>11588</th>\n",
       "      <td>2020-12-31</td>\n",
       "      <td>NaN</td>\n",
       "      <td>13981.75</td>\n",
       "      <td>NaT</td>\n",
       "      <td>14024.85</td>\n",
       "      <td>NaN</td>\n",
       "      <td>13936.45</td>\n",
       "      <td>NaN</td>\n",
       "      <td>13970.00</td>\n",
       "      <td>NaN</td>\n",
       "      <td>NaN</td>\n",
       "      <td>NaN</td>\n",
       "      <td>2.630582e+11</td>\n",
       "      <td>NaN</td>\n",
       "      <td>452410109.0</td>\n",
       "      <td>2020-12-31</td>\n",
       "    </tr>\n",
       "  </tbody>\n",
       "</table>\n",
       "</div>"
      ],
      "text/plain": [
       "            Date  Change in OI     Close Expiry      High  Last       Low  \\\n",
       "11586 2020-12-29           NaN  13932.60    NaT  13967.60   NaN  13859.90   \n",
       "11587 2020-12-30           NaN  13981.95    NaT  13997.00   NaN  13864.95   \n",
       "11588 2020-12-31           NaN  13981.75    NaT  14024.85   NaN  13936.45   \n",
       "\n",
       "       Number of Contracts      Open  Open Interest  Settle Price Symbol  \\\n",
       "11586                  NaN  13910.35            NaN           NaN    NaN   \n",
       "11587                  NaN  13980.90            NaN           NaN    NaN   \n",
       "11588                  NaN  13970.00            NaN           NaN    NaN   \n",
       "\n",
       "           Turnover  Underlying       Volume      expiry  \n",
       "11586  2.515423e+11         NaN  439593961.0  2020-12-31  \n",
       "11587  2.463312e+11         NaN  380681073.0  2020-12-31  \n",
       "11588  2.630582e+11         NaN  452410109.0  2020-12-31  "
      ]
     },
     "execution_count": 5,
     "metadata": {},
     "output_type": "execute_result"
    }
   ],
   "source": [
    "future_raw = pd.read_csv('../data_output/nifty_futures_15yr.csv', parse_dates = ['Date', 'Expiry'], infer_datetime_format = True, header = 0)\n",
    "future_raw.tail(n=3)"
   ]
  },
  {
   "cell_type": "code",
   "execution_count": 6,
   "id": "d64557b6",
   "metadata": {},
   "outputs": [
    {
     "name": "stdout",
     "output_type": "stream",
     "text": [
      "Date      datetime64[ns]\n",
      "expiry            object\n",
      "Close            float64\n",
      "dtype: object\n",
      "(11589, 3)\n"
     ]
    },
    {
     "data": {
      "text/html": [
       "<div>\n",
       "<style scoped>\n",
       "    .dataframe tbody tr th:only-of-type {\n",
       "        vertical-align: middle;\n",
       "    }\n",
       "\n",
       "    .dataframe tbody tr th {\n",
       "        vertical-align: top;\n",
       "    }\n",
       "\n",
       "    .dataframe thead th {\n",
       "        text-align: right;\n",
       "    }\n",
       "</style>\n",
       "<table border=\"1\" class=\"dataframe\">\n",
       "  <thead>\n",
       "    <tr style=\"text-align: right;\">\n",
       "      <th></th>\n",
       "      <th>Date</th>\n",
       "      <th>expiry</th>\n",
       "      <th>Close</th>\n",
       "    </tr>\n",
       "  </thead>\n",
       "  <tbody>\n",
       "    <tr>\n",
       "      <th>0</th>\n",
       "      <td>2004-11-01</td>\n",
       "      <td>2005-01-27</td>\n",
       "      <td>1797.75</td>\n",
       "    </tr>\n",
       "    <tr>\n",
       "      <th>1</th>\n",
       "      <td>2004-11-02</td>\n",
       "      <td>2005-01-27</td>\n",
       "      <td>1813.70</td>\n",
       "    </tr>\n",
       "    <tr>\n",
       "      <th>2</th>\n",
       "      <td>2004-11-03</td>\n",
       "      <td>2005-01-27</td>\n",
       "      <td>1837.40</td>\n",
       "    </tr>\n",
       "  </tbody>\n",
       "</table>\n",
       "</div>"
      ],
      "text/plain": [
       "        Date      expiry    Close\n",
       "0 2004-11-01  2005-01-27  1797.75\n",
       "1 2004-11-02  2005-01-27  1813.70\n",
       "2 2004-11-03  2005-01-27  1837.40"
      ]
     },
     "execution_count": 6,
     "metadata": {},
     "output_type": "execute_result"
    }
   ],
   "source": [
    "# move relevant columns to a new dataframe\n",
    "future = future_raw[['Date', 'expiry', 'Close']]\n",
    "print(future.dtypes)\n",
    "print(future.shape)\n",
    "future.head(3)"
   ]
  },
  {
   "cell_type": "code",
   "execution_count": 7,
   "id": "be710d19",
   "metadata": {},
   "outputs": [
    {
     "name": "stdout",
     "output_type": "stream",
     "text": [
      "Date      datetime64[ns]\n",
      "expiry    datetime64[ns]\n",
      "Close            float64\n",
      "dtype: object\n",
      "(11589, 3)\n"
     ]
    },
    {
     "name": "stderr",
     "output_type": "stream",
     "text": [
      "C:\\Users\\gurdeep.singh\\.conda\\envs\\py36\\lib\\site-packages\\ipykernel_launcher.py:1: SettingWithCopyWarning: \n",
      "A value is trying to be set on a copy of a slice from a DataFrame.\n",
      "Try using .loc[row_indexer,col_indexer] = value instead\n",
      "\n",
      "See the caveats in the documentation: http://pandas.pydata.org/pandas-docs/stable/indexing.html#indexing-view-versus-copy\n",
      "  \"\"\"Entry point for launching an IPython kernel.\n"
     ]
    },
    {
     "data": {
      "text/html": [
       "<div>\n",
       "<style scoped>\n",
       "    .dataframe tbody tr th:only-of-type {\n",
       "        vertical-align: middle;\n",
       "    }\n",
       "\n",
       "    .dataframe tbody tr th {\n",
       "        vertical-align: top;\n",
       "    }\n",
       "\n",
       "    .dataframe thead th {\n",
       "        text-align: right;\n",
       "    }\n",
       "</style>\n",
       "<table border=\"1\" class=\"dataframe\">\n",
       "  <thead>\n",
       "    <tr style=\"text-align: right;\">\n",
       "      <th></th>\n",
       "      <th>Date</th>\n",
       "      <th>expiry</th>\n",
       "      <th>Close</th>\n",
       "    </tr>\n",
       "  </thead>\n",
       "  <tbody>\n",
       "    <tr>\n",
       "      <th>0</th>\n",
       "      <td>2004-11-01</td>\n",
       "      <td>2005-01-27</td>\n",
       "      <td>1797.75</td>\n",
       "    </tr>\n",
       "    <tr>\n",
       "      <th>1</th>\n",
       "      <td>2004-11-02</td>\n",
       "      <td>2005-01-27</td>\n",
       "      <td>1813.70</td>\n",
       "    </tr>\n",
       "    <tr>\n",
       "      <th>2</th>\n",
       "      <td>2004-11-03</td>\n",
       "      <td>2005-01-27</td>\n",
       "      <td>1837.40</td>\n",
       "    </tr>\n",
       "  </tbody>\n",
       "</table>\n",
       "</div>"
      ],
      "text/plain": [
       "        Date     expiry    Close\n",
       "0 2004-11-01 2005-01-27  1797.75\n",
       "1 2004-11-02 2005-01-27  1813.70\n",
       "2 2004-11-03 2005-01-27  1837.40"
      ]
     },
     "execution_count": 7,
     "metadata": {},
     "output_type": "execute_result"
    }
   ],
   "source": [
    "future['expiry'] = pd.to_datetime(future['expiry'])\n",
    "print(future.dtypes)\n",
    "print(future.shape)\n",
    "future.head(3)"
   ]
  },
  {
   "cell_type": "code",
   "execution_count": 8,
   "id": "invalid-company",
   "metadata": {},
   "outputs": [
    {
     "name": "stdout",
     "output_type": "stream",
     "text": [
      "(1, 47)\n"
     ]
    },
    {
     "data": {
      "text/html": [
       "<div>\n",
       "<style scoped>\n",
       "    .dataframe tbody tr th:only-of-type {\n",
       "        vertical-align: middle;\n",
       "    }\n",
       "\n",
       "    .dataframe tbody tr th {\n",
       "        vertical-align: top;\n",
       "    }\n",
       "\n",
       "    .dataframe thead th {\n",
       "        text-align: right;\n",
       "    }\n",
       "</style>\n",
       "<table border=\"1\" class=\"dataframe\">\n",
       "  <thead>\n",
       "    <tr style=\"text-align: right;\">\n",
       "      <th></th>\n",
       "      <th>Country Name</th>\n",
       "      <th>Country Code</th>\n",
       "      <th>Indicator Name</th>\n",
       "      <th>Indicator Code</th>\n",
       "      <th>1978</th>\n",
       "      <th>1979</th>\n",
       "      <th>1980</th>\n",
       "      <th>1981</th>\n",
       "      <th>1982</th>\n",
       "      <th>1983</th>\n",
       "      <th>...</th>\n",
       "      <th>2011</th>\n",
       "      <th>2012</th>\n",
       "      <th>2013</th>\n",
       "      <th>2014</th>\n",
       "      <th>2015</th>\n",
       "      <th>2016</th>\n",
       "      <th>2017</th>\n",
       "      <th>2018</th>\n",
       "      <th>2019</th>\n",
       "      <th>2020</th>\n",
       "    </tr>\n",
       "  </thead>\n",
       "  <tbody>\n",
       "    <tr>\n",
       "      <th>0</th>\n",
       "      <td>India</td>\n",
       "      <td>IND</td>\n",
       "      <td>Lending interest rate (%)</td>\n",
       "      <td>FR.INR.LEND</td>\n",
       "      <td>13.5</td>\n",
       "      <td>14.5</td>\n",
       "      <td>16.5</td>\n",
       "      <td>16.5</td>\n",
       "      <td>16.5</td>\n",
       "      <td>16.5</td>\n",
       "      <td>...</td>\n",
       "      <td>10.166667</td>\n",
       "      <td>10.604167</td>\n",
       "      <td>10.291667</td>\n",
       "      <td>10.25</td>\n",
       "      <td>10.008333</td>\n",
       "      <td>9.6725</td>\n",
       "      <td>9.508333</td>\n",
       "      <td>9.454167</td>\n",
       "      <td>9.46625</td>\n",
       "      <td>9.15</td>\n",
       "    </tr>\n",
       "  </tbody>\n",
       "</table>\n",
       "<p>1 rows × 47 columns</p>\n",
       "</div>"
      ],
      "text/plain": [
       "  Country Name Country Code             Indicator Name Indicator Code  1978  \\\n",
       "0        India          IND  Lending interest rate (%)    FR.INR.LEND  13.5   \n",
       "\n",
       "   1979  1980  1981  1982  1983  ...        2011       2012       2013   2014  \\\n",
       "0  14.5  16.5  16.5  16.5  16.5  ...   10.166667  10.604167  10.291667  10.25   \n",
       "\n",
       "        2015    2016      2017      2018     2019  2020  \n",
       "0  10.008333  9.6725  9.508333  9.454167  9.46625  9.15  \n",
       "\n",
       "[1 rows x 47 columns]"
      ]
     },
     "execution_count": 8,
     "metadata": {},
     "output_type": "execute_result"
    }
   ],
   "source": [
    "# load lending rates - this may not be needed\n",
    "lending = pd.read_csv('../data_output/india_lending_rate.csv')\n",
    "print(lending.shape)\n",
    "lending.head(3)"
   ]
  },
  {
   "cell_type": "markdown",
   "id": "b939ec64",
   "metadata": {},
   "source": [
    "### Join Future price with Option "
   ]
  },
  {
   "cell_type": "markdown",
   "id": "dad07168",
   "metadata": {},
   "source": [
    "**Note on Futures prices**\n",
    "\n",
    "* We propose to use futures price for option pricing in place of using underlying and interest rates.\n",
    "* This is due to prices being affected  because dividends and other corporate actions - bonus, rights issue etc.\n",
    "* Before we join the 2 dataframes we need to ensure that combination of data and expiry is unique. \n",
    "* This should have been the case but better to verify."
   ]
  },
  {
   "cell_type": "code",
   "execution_count": 9,
   "id": "67ff4b01",
   "metadata": {},
   "outputs": [
    {
     "data": {
      "text/plain": [
       "4012"
      ]
     },
     "execution_count": 9,
     "metadata": {},
     "output_type": "execute_result"
    }
   ],
   "source": [
    "future['Date'].nunique()"
   ]
  },
  {
   "cell_type": "code",
   "execution_count": 10,
   "id": "1b93293f",
   "metadata": {
    "scrolled": true
   },
   "outputs": [
    {
     "data": {
      "text/plain": [
       "191"
      ]
     },
     "execution_count": 10,
     "metadata": {},
     "output_type": "execute_result"
    }
   ],
   "source": [
    "future['expiry'].nunique()"
   ]
  },
  {
   "cell_type": "code",
   "execution_count": 11,
   "id": "274e1f3d",
   "metadata": {},
   "outputs": [
    {
     "name": "stdout",
     "output_type": "stream",
     "text": [
      "(11589,)\n"
     ]
    },
    {
     "data": {
      "text/plain": [
       "11589"
      ]
     },
     "execution_count": 11,
     "metadata": {},
     "output_type": "execute_result"
    }
   ],
   "source": [
    "# combine both columns and check nrows\n",
    "x = future['Date'].astype(str) + future['expiry'].astype(str)\n",
    "print(x.shape)\n",
    "x.nunique() # should be similar to number of rows in futures dataframe"
   ]
  },
  {
   "cell_type": "code",
   "execution_count": 12,
   "id": "527fe2f8",
   "metadata": {},
   "outputs": [
    {
     "name": "stdout",
     "output_type": "stream",
     "text": [
      "(155846,)\n"
     ]
    },
    {
     "data": {
      "text/plain": [
       "9160"
      ]
     },
     "execution_count": 12,
     "metadata": {},
     "output_type": "execute_result"
    }
   ],
   "source": [
    "# similar check for option before joining\n",
    "y = option['Date'].astype(str)+option['Expiry'].astype(str)\n",
    "print(y.shape)\n",
    "y.nunique() # we have less rows in options than futures"
   ]
  },
  {
   "cell_type": "code",
   "execution_count": 13,
   "id": "a5eddc0d",
   "metadata": {},
   "outputs": [
    {
     "name": "stdout",
     "output_type": "stream",
     "text": [
      "(155846, 8)\n"
     ]
    },
    {
     "data": {
      "text/html": [
       "<div>\n",
       "<style scoped>\n",
       "    .dataframe tbody tr th:only-of-type {\n",
       "        vertical-align: middle;\n",
       "    }\n",
       "\n",
       "    .dataframe tbody tr th {\n",
       "        vertical-align: top;\n",
       "    }\n",
       "\n",
       "    .dataframe thead th {\n",
       "        text-align: right;\n",
       "    }\n",
       "</style>\n",
       "<table border=\"1\" class=\"dataframe\">\n",
       "  <thead>\n",
       "    <tr style=\"text-align: right;\">\n",
       "      <th></th>\n",
       "      <th>Date</th>\n",
       "      <th>Expiry</th>\n",
       "      <th>Option Type</th>\n",
       "      <th>Strike Price</th>\n",
       "      <th>Close_x</th>\n",
       "      <th>Underlying</th>\n",
       "      <th>expiry</th>\n",
       "      <th>Close_y</th>\n",
       "    </tr>\n",
       "  </thead>\n",
       "  <tbody>\n",
       "    <tr>\n",
       "      <th>0</th>\n",
       "      <td>2006-04-07</td>\n",
       "      <td>2006-06-29</td>\n",
       "      <td>PE</td>\n",
       "      <td>3600.0</td>\n",
       "      <td>143.6</td>\n",
       "      <td>3454.80</td>\n",
       "      <td>2006-06-29</td>\n",
       "      <td>3454.80</td>\n",
       "    </tr>\n",
       "    <tr>\n",
       "      <th>1</th>\n",
       "      <td>2006-04-10</td>\n",
       "      <td>2006-06-29</td>\n",
       "      <td>PE</td>\n",
       "      <td>3600.0</td>\n",
       "      <td>143.6</td>\n",
       "      <td>3478.45</td>\n",
       "      <td>2006-06-29</td>\n",
       "      <td>3478.45</td>\n",
       "    </tr>\n",
       "    <tr>\n",
       "      <th>2</th>\n",
       "      <td>2006-04-12</td>\n",
       "      <td>2006-06-29</td>\n",
       "      <td>PE</td>\n",
       "      <td>3600.0</td>\n",
       "      <td>143.6</td>\n",
       "      <td>3380.00</td>\n",
       "      <td>2006-06-29</td>\n",
       "      <td>3380.00</td>\n",
       "    </tr>\n",
       "    <tr>\n",
       "      <th>3</th>\n",
       "      <td>2006-04-13</td>\n",
       "      <td>2006-06-29</td>\n",
       "      <td>PE</td>\n",
       "      <td>3600.0</td>\n",
       "      <td>143.6</td>\n",
       "      <td>3345.50</td>\n",
       "      <td>2006-06-29</td>\n",
       "      <td>3345.50</td>\n",
       "    </tr>\n",
       "    <tr>\n",
       "      <th>4</th>\n",
       "      <td>2006-04-17</td>\n",
       "      <td>2006-06-29</td>\n",
       "      <td>PE</td>\n",
       "      <td>3600.0</td>\n",
       "      <td>143.6</td>\n",
       "      <td>3425.15</td>\n",
       "      <td>2006-06-29</td>\n",
       "      <td>3425.15</td>\n",
       "    </tr>\n",
       "  </tbody>\n",
       "</table>\n",
       "</div>"
      ],
      "text/plain": [
       "        Date     Expiry Option Type  Strike Price  Close_x  Underlying  \\\n",
       "0 2006-04-07 2006-06-29          PE        3600.0    143.6     3454.80   \n",
       "1 2006-04-10 2006-06-29          PE        3600.0    143.6     3478.45   \n",
       "2 2006-04-12 2006-06-29          PE        3600.0    143.6     3380.00   \n",
       "3 2006-04-13 2006-06-29          PE        3600.0    143.6     3345.50   \n",
       "4 2006-04-17 2006-06-29          PE        3600.0    143.6     3425.15   \n",
       "\n",
       "      expiry  Close_y  \n",
       "0 2006-06-29  3454.80  \n",
       "1 2006-06-29  3478.45  \n",
       "2 2006-06-29  3380.00  \n",
       "3 2006-06-29  3345.50  \n",
       "4 2006-06-29  3425.15  "
      ]
     },
     "execution_count": 13,
     "metadata": {},
     "output_type": "execute_result"
    }
   ],
   "source": [
    "option2 = option.copy() #  create a copy just in case\n",
    "option2 = pd.merge(option, future[['Date','expiry', 'Close']], left_on = ['Date', 'Expiry'], right_on = ['Date', 'expiry'], how = 'left')\n",
    "\n",
    "print(option2.shape)\n",
    "option2.head()"
   ]
  },
  {
   "cell_type": "code",
   "execution_count": 14,
   "id": "ca5161ea",
   "metadata": {},
   "outputs": [
    {
     "data": {
      "text/plain": [
       "True"
      ]
     },
     "execution_count": 14,
     "metadata": {},
     "output_type": "execute_result"
    }
   ],
   "source": [
    "# check if \"Expiry\" and \"expiry\" are equal; trust but verify\n",
    "option2['Expiry'].equals(option2.expiry)\n",
    "\n",
    "# without pandas \n",
    "# np.where(option2['Expiry'] != option2['expiry'],1,0).sum()"
   ]
  },
  {
   "cell_type": "code",
   "execution_count": 15,
   "id": "989a2807",
   "metadata": {},
   "outputs": [
    {
     "name": "stdout",
     "output_type": "stream",
     "text": [
      "(155846, 9)\n"
     ]
    },
    {
     "data": {
      "text/html": [
       "<div>\n",
       "<style scoped>\n",
       "    .dataframe tbody tr th:only-of-type {\n",
       "        vertical-align: middle;\n",
       "    }\n",
       "\n",
       "    .dataframe tbody tr th {\n",
       "        vertical-align: top;\n",
       "    }\n",
       "\n",
       "    .dataframe thead th {\n",
       "        text-align: right;\n",
       "    }\n",
       "</style>\n",
       "<table border=\"1\" class=\"dataframe\">\n",
       "  <thead>\n",
       "    <tr style=\"text-align: right;\">\n",
       "      <th></th>\n",
       "      <th>Date</th>\n",
       "      <th>Option Type</th>\n",
       "      <th>Strike Price</th>\n",
       "      <th>close</th>\n",
       "      <th>Underlying</th>\n",
       "      <th>expiry</th>\n",
       "      <th>futures</th>\n",
       "      <th>days2expiry</th>\n",
       "      <th>atm_strike</th>\n",
       "    </tr>\n",
       "  </thead>\n",
       "  <tbody>\n",
       "    <tr>\n",
       "      <th>155843</th>\n",
       "      <td>2020-12-29</td>\n",
       "      <td>CE</td>\n",
       "      <td>14900.0</td>\n",
       "      <td>0.8</td>\n",
       "      <td>NaN</td>\n",
       "      <td>2020-12-31</td>\n",
       "      <td>13932.60</td>\n",
       "      <td>2</td>\n",
       "      <td>3500.0</td>\n",
       "    </tr>\n",
       "    <tr>\n",
       "      <th>155844</th>\n",
       "      <td>2020-12-30</td>\n",
       "      <td>CE</td>\n",
       "      <td>14900.0</td>\n",
       "      <td>0.7</td>\n",
       "      <td>13981.95</td>\n",
       "      <td>2020-12-31</td>\n",
       "      <td>13981.95</td>\n",
       "      <td>1</td>\n",
       "      <td>3500.0</td>\n",
       "    </tr>\n",
       "    <tr>\n",
       "      <th>155845</th>\n",
       "      <td>2020-12-31</td>\n",
       "      <td>CE</td>\n",
       "      <td>14900.0</td>\n",
       "      <td>0.1</td>\n",
       "      <td>13981.75</td>\n",
       "      <td>2020-12-31</td>\n",
       "      <td>13981.75</td>\n",
       "      <td>0</td>\n",
       "      <td>3500.0</td>\n",
       "    </tr>\n",
       "  </tbody>\n",
       "</table>\n",
       "</div>"
      ],
      "text/plain": [
       "             Date Option Type  Strike Price  close  Underlying     expiry  \\\n",
       "155843 2020-12-29          CE       14900.0    0.8         NaN 2020-12-31   \n",
       "155844 2020-12-30          CE       14900.0    0.7    13981.95 2020-12-31   \n",
       "155845 2020-12-31          CE       14900.0    0.1    13981.75 2020-12-31   \n",
       "\n",
       "         futures  days2expiry  atm_strike  \n",
       "155843  13932.60            2      3500.0  \n",
       "155844  13981.95            1      3500.0  \n",
       "155845  13981.75            0      3500.0  "
      ]
     },
     "execution_count": 15,
     "metadata": {},
     "output_type": "execute_result"
    }
   ],
   "source": [
    "# drop and rename columns \n",
    "\n",
    "option2.drop('Expiry', axis = 1, inplace = True)\n",
    "option2.rename(columns = {'Close_y' : 'futures', 'Close_x' : 'close'}, inplace = True)\n",
    "\n",
    "# add column for ATM strike price and days to expiry\n",
    "option2['days2expiry'] = (option2.expiry - option2.Date).dt.days\n",
    "\n",
    "atm_strike = round(option2.loc[0,'Underlying']/100)*100\n",
    "option2['atm_strike'] = atm_strike\n",
    "print(option2.shape)\n",
    "option2.tail(3)"
   ]
  },
  {
   "cell_type": "markdown",
   "id": "respective-amount",
   "metadata": {},
   "source": [
    "### Option pricing\n",
    "\n",
    "https://github.com/OptionsnPython/Option-strategies-backtesting-in-Python/blob/main/Option%20Greeks%20Strategies%20%26%20Backtesting%20in%20Python.%20File%202%20-Greeks%20in%20Python%20using%20mibian.ipynb\n",
    "\n",
    "#### Option pricing depends on\n",
    "\n",
    "* Underlying price - Nifty in this case "
   ]
  },
  {
   "cell_type": "code",
   "execution_count": 16,
   "id": "similar-valley",
   "metadata": {},
   "outputs": [
    {
     "name": "stdout",
     "output_type": "stream",
     "text": [
      "(301, 9)\n",
      "Date            datetime64[ns]\n",
      "Option Type             object\n",
      "Strike Price           float64\n",
      "close                  float64\n",
      "Underlying             float64\n",
      "expiry          datetime64[ns]\n",
      "futures                float64\n",
      "days2expiry              int64\n",
      "atm_strike             float64\n",
      "dtype: object\n",
      "PE    161\n",
      "CE    140\n",
      "Name: Option Type, dtype: int64\n"
     ]
    },
    {
     "data": {
      "text/html": [
       "<div>\n",
       "<style scoped>\n",
       "    .dataframe tbody tr th:only-of-type {\n",
       "        vertical-align: middle;\n",
       "    }\n",
       "\n",
       "    .dataframe tbody tr th {\n",
       "        vertical-align: top;\n",
       "    }\n",
       "\n",
       "    .dataframe thead th {\n",
       "        text-align: right;\n",
       "    }\n",
       "</style>\n",
       "<table border=\"1\" class=\"dataframe\">\n",
       "  <thead>\n",
       "    <tr style=\"text-align: right;\">\n",
       "      <th></th>\n",
       "      <th>Date</th>\n",
       "      <th>Option Type</th>\n",
       "      <th>Strike Price</th>\n",
       "      <th>close</th>\n",
       "      <th>Underlying</th>\n",
       "      <th>expiry</th>\n",
       "      <th>futures</th>\n",
       "      <th>days2expiry</th>\n",
       "      <th>atm_strike</th>\n",
       "    </tr>\n",
       "  </thead>\n",
       "  <tbody>\n",
       "    <tr>\n",
       "      <th>0</th>\n",
       "      <td>2006-04-07</td>\n",
       "      <td>PE</td>\n",
       "      <td>3600.0</td>\n",
       "      <td>143.6</td>\n",
       "      <td>3454.80</td>\n",
       "      <td>2006-06-29</td>\n",
       "      <td>3454.80</td>\n",
       "      <td>83</td>\n",
       "      <td>3500.0</td>\n",
       "    </tr>\n",
       "    <tr>\n",
       "      <th>1</th>\n",
       "      <td>2006-04-10</td>\n",
       "      <td>PE</td>\n",
       "      <td>3600.0</td>\n",
       "      <td>143.6</td>\n",
       "      <td>3478.45</td>\n",
       "      <td>2006-06-29</td>\n",
       "      <td>3478.45</td>\n",
       "      <td>80</td>\n",
       "      <td>3500.0</td>\n",
       "    </tr>\n",
       "    <tr>\n",
       "      <th>2</th>\n",
       "      <td>2006-04-12</td>\n",
       "      <td>PE</td>\n",
       "      <td>3600.0</td>\n",
       "      <td>143.6</td>\n",
       "      <td>3380.00</td>\n",
       "      <td>2006-06-29</td>\n",
       "      <td>3380.00</td>\n",
       "      <td>78</td>\n",
       "      <td>3500.0</td>\n",
       "    </tr>\n",
       "  </tbody>\n",
       "</table>\n",
       "</div>"
      ],
      "text/plain": [
       "        Date Option Type  Strike Price  close  Underlying     expiry  futures  \\\n",
       "0 2006-04-07          PE        3600.0  143.6     3454.80 2006-06-29  3454.80   \n",
       "1 2006-04-10          PE        3600.0  143.6     3478.45 2006-06-29  3478.45   \n",
       "2 2006-04-12          PE        3600.0  143.6     3380.00 2006-06-29  3380.00   \n",
       "\n",
       "   days2expiry  atm_strike  \n",
       "0           83      3500.0  \n",
       "1           80      3500.0  \n",
       "2           78      3500.0  "
      ]
     },
     "execution_count": 16,
     "metadata": {},
     "output_type": "execute_result"
    }
   ],
   "source": [
    "# calculate IV for single option; create test dataframe\n",
    "test_put = option2.loc[:300,:]\n",
    "print(test_put.shape)\n",
    "print(test_put.dtypes)\n",
    "print(test_put['Option Type'].value_counts())\n",
    "test_put.head(3)"
   ]
  },
  {
   "cell_type": "code",
   "execution_count": 17,
   "id": "90fd9956",
   "metadata": {
    "scrolled": false
   },
   "outputs": [
    {
     "name": "stdout",
     "output_type": "stream",
     "text": [
      "(300, 9)\n",
      "Date            datetime64[ns]\n",
      "Option Type             object\n",
      "Strike Price           float64\n",
      "close                  float64\n",
      "Underlying             float64\n",
      "expiry          datetime64[ns]\n",
      "futures                float64\n",
      "days2expiry              int64\n",
      "atm_strike             float64\n",
      "dtype: object\n",
      "CE    300\n",
      "Name: Option Type, dtype: int64\n"
     ]
    },
    {
     "data": {
      "text/html": [
       "<div>\n",
       "<style scoped>\n",
       "    .dataframe tbody tr th:only-of-type {\n",
       "        vertical-align: middle;\n",
       "    }\n",
       "\n",
       "    .dataframe tbody tr th {\n",
       "        vertical-align: top;\n",
       "    }\n",
       "\n",
       "    .dataframe thead th {\n",
       "        text-align: right;\n",
       "    }\n",
       "</style>\n",
       "<table border=\"1\" class=\"dataframe\">\n",
       "  <thead>\n",
       "    <tr style=\"text-align: right;\">\n",
       "      <th></th>\n",
       "      <th>Date</th>\n",
       "      <th>Option Type</th>\n",
       "      <th>Strike Price</th>\n",
       "      <th>close</th>\n",
       "      <th>Underlying</th>\n",
       "      <th>expiry</th>\n",
       "      <th>futures</th>\n",
       "      <th>days2expiry</th>\n",
       "      <th>atm_strike</th>\n",
       "    </tr>\n",
       "  </thead>\n",
       "  <tbody>\n",
       "    <tr>\n",
       "      <th>59</th>\n",
       "      <td>2006-04-07</td>\n",
       "      <td>CE</td>\n",
       "      <td>3600.0</td>\n",
       "      <td>83.0</td>\n",
       "      <td>3454.80</td>\n",
       "      <td>2006-06-29</td>\n",
       "      <td>3454.80</td>\n",
       "      <td>83</td>\n",
       "      <td>3500.0</td>\n",
       "    </tr>\n",
       "    <tr>\n",
       "      <th>60</th>\n",
       "      <td>2006-04-10</td>\n",
       "      <td>CE</td>\n",
       "      <td>3600.0</td>\n",
       "      <td>75.0</td>\n",
       "      <td>3478.45</td>\n",
       "      <td>2006-06-29</td>\n",
       "      <td>3478.45</td>\n",
       "      <td>80</td>\n",
       "      <td>3500.0</td>\n",
       "    </tr>\n",
       "    <tr>\n",
       "      <th>61</th>\n",
       "      <td>2006-04-12</td>\n",
       "      <td>CE</td>\n",
       "      <td>3600.0</td>\n",
       "      <td>45.0</td>\n",
       "      <td>3380.00</td>\n",
       "      <td>2006-06-29</td>\n",
       "      <td>3380.00</td>\n",
       "      <td>78</td>\n",
       "      <td>3500.0</td>\n",
       "    </tr>\n",
       "  </tbody>\n",
       "</table>\n",
       "</div>"
      ],
      "text/plain": [
       "         Date Option Type  Strike Price  close  Underlying     expiry  \\\n",
       "59 2006-04-07          CE        3600.0   83.0     3454.80 2006-06-29   \n",
       "60 2006-04-10          CE        3600.0   75.0     3478.45 2006-06-29   \n",
       "61 2006-04-12          CE        3600.0   45.0     3380.00 2006-06-29   \n",
       "\n",
       "    futures  days2expiry  atm_strike  \n",
       "59  3454.80           83      3500.0  \n",
       "60  3478.45           80      3500.0  \n",
       "61  3380.00           78      3500.0  "
      ]
     },
     "execution_count": 17,
     "metadata": {},
     "output_type": "execute_result"
    }
   ],
   "source": [
    "# create test df for call options\n",
    "test_call = option2[option2['Option Type'] == 'CE'].head(300)\n",
    "print(test_call.shape)\n",
    "print(test_call.dtypes)\n",
    "print(test_call['Option Type'].value_counts())\n",
    "test_call.head(3)"
   ]
  },
  {
   "cell_type": "code",
   "execution_count": 18,
   "id": "southern-zambia",
   "metadata": {},
   "outputs": [
    {
     "name": "stdout",
     "output_type": "stream",
     "text": [
      "0.029520257209636247\n",
      "20.000457763671875\n"
     ]
    }
   ],
   "source": [
    "# test mibian - replicate githb code for put option\n",
    "# https://github.com/yassinemaaroufi/MibianLib\n",
    "\n",
    "# underlying, strike, interest, days to expiry, volatility\n",
    "put_price = mibian.BS([1.4565, 1.45, 1,30], volatility = 20).putPrice\n",
    "print(put_price)\n",
    "\n",
    "# iv - underlying, strike, interest rate, days to expiry\n",
    "iv = mibian.BS([1.4565, 1.45, 1, 30], putPrice = put_price).impliedVolatility\n",
    "print(iv)"
   ]
  },
  {
   "cell_type": "code",
   "execution_count": 19,
   "id": "equipped-classroom",
   "metadata": {},
   "outputs": [
    {
     "name": "stdout",
     "output_type": "stream",
     "text": [
      "18.24951171875\n",
      "143.62637375839972\n"
     ]
    }
   ],
   "source": [
    "# test mibian - on our data using 5% interest rate asmp\n",
    "# see below results are pretty close to actual values\n",
    "# iv - underlying, strike, interest rate, days to expiry\n",
    "iv = mibian.BS([3454.8, 3500, 0.05*365/83, 83], putPrice = 143.6).impliedVolatility\n",
    "print(iv)\n",
    "\n",
    "# underlying, strike, interest, days to expiry, volatility\n",
    "put_price = mibian.BS([3454.8, 3500, 0.05*365/83, 83], volatility = iv).putPrice\n",
    "print(put_price)"
   ]
  },
  {
   "cell_type": "code",
   "execution_count": 20,
   "id": "f39ff556",
   "metadata": {},
   "outputs": [
    {
     "name": "stdout",
     "output_type": "stream",
     "text": [
      "18.37158203125\n",
      "143.62370884999427\n"
     ]
    }
   ],
   "source": [
    "# test mibian - on our data using **futures price**\n",
    "# see below results are pretty close to actual values\n",
    "# iv - underlying, strike, interest rate, days to expiry\n",
    "iv = mibian.BS([3458.15, 3500, 0, 83], putPrice = 143.6).impliedVolatility\n",
    "print(iv)\n",
    "\n",
    "# repeat put price calculation using futures price\n",
    "put_price2 = mibian.BS([3458.15, 3500, 0, 83], volatility = iv).putPrice\n",
    "print(put_price2)"
   ]
  },
  {
   "cell_type": "code",
   "execution_count": 21,
   "id": "premier-camera",
   "metadata": {},
   "outputs": [],
   "source": [
    "def put_iv(df):\n",
    "    # lets write a function to calculate IV for put options\n",
    "    try: \n",
    "        # iv - underlying, strike, interest rate, days to expiry\n",
    "        return mibian.BS([df['futures'], df['Strike Price'], 0, df['days2expiry']], putPrice = df['close']).impliedVolatility\n",
    "    except:\n",
    "        return np.nan"
   ]
  },
  {
   "cell_type": "code",
   "execution_count": 22,
   "id": "registered-conservative",
   "metadata": {},
   "outputs": [
    {
     "name": "stdout",
     "output_type": "stream",
     "text": [
      "690.4676882\n"
     ]
    },
    {
     "name": "stderr",
     "output_type": "stream",
     "text": [
      "C:\\Users\\gurdeep.singh\\.conda\\envs\\py36\\lib\\site-packages\\ipykernel_launcher.py:3: SettingWithCopyWarning: \n",
      "A value is trying to be set on a copy of a slice from a DataFrame.\n",
      "Try using .loc[row_indexer,col_indexer] = value instead\n",
      "\n",
      "See the caveats in the documentation: http://pandas.pydata.org/pandas-docs/stable/indexing.html#indexing-view-versus-copy\n",
      "  This is separate from the ipykernel package so we can avoid doing imports until\n"
     ]
    },
    {
     "data": {
      "text/html": [
       "<div>\n",
       "<style scoped>\n",
       "    .dataframe tbody tr th:only-of-type {\n",
       "        vertical-align: middle;\n",
       "    }\n",
       "\n",
       "    .dataframe tbody tr th {\n",
       "        vertical-align: top;\n",
       "    }\n",
       "\n",
       "    .dataframe thead th {\n",
       "        text-align: right;\n",
       "    }\n",
       "</style>\n",
       "<table border=\"1\" class=\"dataframe\">\n",
       "  <thead>\n",
       "    <tr style=\"text-align: right;\">\n",
       "      <th></th>\n",
       "      <th>Date</th>\n",
       "      <th>Option Type</th>\n",
       "      <th>Strike Price</th>\n",
       "      <th>close</th>\n",
       "      <th>Underlying</th>\n",
       "      <th>expiry</th>\n",
       "      <th>futures</th>\n",
       "      <th>days2expiry</th>\n",
       "      <th>atm_strike</th>\n",
       "      <th>put_iv</th>\n",
       "    </tr>\n",
       "  </thead>\n",
       "  <tbody>\n",
       "    <tr>\n",
       "      <th>296</th>\n",
       "      <td>2006-05-24</td>\n",
       "      <td>PE</td>\n",
       "      <td>3600.0</td>\n",
       "      <td>201.0</td>\n",
       "      <td>3115.55</td>\n",
       "      <td>2006-07-27</td>\n",
       "      <td>3115.55</td>\n",
       "      <td>64</td>\n",
       "      <td>3500.0</td>\n",
       "      <td>0.000010</td>\n",
       "    </tr>\n",
       "    <tr>\n",
       "      <th>297</th>\n",
       "      <td>2006-05-25</td>\n",
       "      <td>PE</td>\n",
       "      <td>3600.0</td>\n",
       "      <td>625.0</td>\n",
       "      <td>3177.70</td>\n",
       "      <td>2006-07-27</td>\n",
       "      <td>3177.70</td>\n",
       "      <td>63</td>\n",
       "      <td>3500.0</td>\n",
       "      <td>67.382812</td>\n",
       "    </tr>\n",
       "    <tr>\n",
       "      <th>298</th>\n",
       "      <td>2006-05-26</td>\n",
       "      <td>PE</td>\n",
       "      <td>3600.0</td>\n",
       "      <td>625.0</td>\n",
       "      <td>3209.60</td>\n",
       "      <td>2006-07-27</td>\n",
       "      <td>3209.60</td>\n",
       "      <td>62</td>\n",
       "      <td>3500.0</td>\n",
       "      <td>71.762085</td>\n",
       "    </tr>\n",
       "    <tr>\n",
       "      <th>299</th>\n",
       "      <td>2006-05-29</td>\n",
       "      <td>PE</td>\n",
       "      <td>3600.0</td>\n",
       "      <td>630.0</td>\n",
       "      <td>3214.90</td>\n",
       "      <td>2006-07-27</td>\n",
       "      <td>3214.90</td>\n",
       "      <td>59</td>\n",
       "      <td>3500.0</td>\n",
       "      <td>75.195312</td>\n",
       "    </tr>\n",
       "    <tr>\n",
       "      <th>300</th>\n",
       "      <td>2006-05-30</td>\n",
       "      <td>PE</td>\n",
       "      <td>3600.0</td>\n",
       "      <td>499.8</td>\n",
       "      <td>3185.30</td>\n",
       "      <td>2006-07-27</td>\n",
       "      <td>3185.30</td>\n",
       "      <td>58</td>\n",
       "      <td>3500.0</td>\n",
       "      <td>44.021606</td>\n",
       "    </tr>\n",
       "  </tbody>\n",
       "</table>\n",
       "</div>"
      ],
      "text/plain": [
       "          Date Option Type  Strike Price  close  Underlying     expiry  \\\n",
       "296 2006-05-24          PE        3600.0  201.0     3115.55 2006-07-27   \n",
       "297 2006-05-25          PE        3600.0  625.0     3177.70 2006-07-27   \n",
       "298 2006-05-26          PE        3600.0  625.0     3209.60 2006-07-27   \n",
       "299 2006-05-29          PE        3600.0  630.0     3214.90 2006-07-27   \n",
       "300 2006-05-30          PE        3600.0  499.8     3185.30 2006-07-27   \n",
       "\n",
       "     futures  days2expiry  atm_strike     put_iv  \n",
       "296  3115.55           64      3500.0   0.000010  \n",
       "297  3177.70           63      3500.0  67.382812  \n",
       "298  3209.60           62      3500.0  71.762085  \n",
       "299  3214.90           59      3500.0  75.195312  \n",
       "300  3185.30           58      3500.0  44.021606  "
      ]
     },
     "execution_count": 22,
     "metadata": {},
     "output_type": "execute_result"
    }
   ],
   "source": [
    "# test the function on sample; apply to larger if it works\n",
    "start = time.perf_counter()\n",
    "test_put['put_iv'] = test_put.apply(put_iv, axis = 1)\n",
    "end = time.perf_counter()\n",
    "\n",
    "total = end-start\n",
    "print(total)\n",
    "test_put.tail()"
   ]
  },
  {
   "cell_type": "code",
   "execution_count": 23,
   "id": "36afa381",
   "metadata": {},
   "outputs": [
    {
     "name": "stdout",
     "output_type": "stream",
     "text": [
      "0.03721154839277063\n",
      "19.22607421875\n"
     ]
    }
   ],
   "source": [
    "        # underlying, strike, interest rate, days2expiry\n",
    "call_price = mibian.BS([1.4565, 1.45, 1, 30], volatility = 20).callPrice\n",
    "print(call_price)\n",
    "\n",
    "call_iv = mibian.BS([1.4565, 1.45, 1, 30], callPrice = 0.0359).impliedVolatility\n",
    "print(call_iv)"
   ]
  },
  {
   "cell_type": "code",
   "execution_count": 24,
   "id": "c5d51bfd",
   "metadata": {},
   "outputs": [],
   "source": [
    "def call_iv(df):\n",
    "    # function to calculate IV of call option\n",
    "    try:\n",
    "        # underlying, strike, interest, days to expiry, volatility\n",
    "        return mibian.BS([df['futures'], df['Strike Price'], 0, df['days2expiry']], callPrice = df['close']).impliedVolatility\n",
    "    except:\n",
    "        return np.nan"
   ]
  },
  {
   "cell_type": "code",
   "execution_count": 25,
   "id": "2a8863e4",
   "metadata": {},
   "outputs": [
    {
     "name": "stdout",
     "output_type": "stream",
     "text": [
      "2.1475882999999385\n"
     ]
    },
    {
     "data": {
      "text/html": [
       "<div>\n",
       "<style scoped>\n",
       "    .dataframe tbody tr th:only-of-type {\n",
       "        vertical-align: middle;\n",
       "    }\n",
       "\n",
       "    .dataframe tbody tr th {\n",
       "        vertical-align: top;\n",
       "    }\n",
       "\n",
       "    .dataframe thead th {\n",
       "        text-align: right;\n",
       "    }\n",
       "</style>\n",
       "<table border=\"1\" class=\"dataframe\">\n",
       "  <thead>\n",
       "    <tr style=\"text-align: right;\">\n",
       "      <th></th>\n",
       "      <th>Date</th>\n",
       "      <th>Option Type</th>\n",
       "      <th>Strike Price</th>\n",
       "      <th>close</th>\n",
       "      <th>Underlying</th>\n",
       "      <th>expiry</th>\n",
       "      <th>futures</th>\n",
       "      <th>days2expiry</th>\n",
       "      <th>atm_strike</th>\n",
       "      <th>call_iv</th>\n",
       "    </tr>\n",
       "  </thead>\n",
       "  <tbody>\n",
       "    <tr>\n",
       "      <th>620</th>\n",
       "      <td>2006-06-19</td>\n",
       "      <td>CE</td>\n",
       "      <td>3800.0</td>\n",
       "      <td>12.0</td>\n",
       "      <td>2916.90</td>\n",
       "      <td>2006-07-27</td>\n",
       "      <td>2916.90</td>\n",
       "      <td>38</td>\n",
       "      <td>3500.0</td>\n",
       "      <td>50.598145</td>\n",
       "    </tr>\n",
       "    <tr>\n",
       "      <th>621</th>\n",
       "      <td>2006-06-20</td>\n",
       "      <td>CE</td>\n",
       "      <td>3800.0</td>\n",
       "      <td>12.0</td>\n",
       "      <td>2861.30</td>\n",
       "      <td>2006-07-27</td>\n",
       "      <td>2861.30</td>\n",
       "      <td>37</td>\n",
       "      <td>3500.0</td>\n",
       "      <td>54.321289</td>\n",
       "    </tr>\n",
       "    <tr>\n",
       "      <th>622</th>\n",
       "      <td>2006-06-21</td>\n",
       "      <td>CE</td>\n",
       "      <td>3800.0</td>\n",
       "      <td>12.0</td>\n",
       "      <td>2923.45</td>\n",
       "      <td>2006-07-27</td>\n",
       "      <td>2923.45</td>\n",
       "      <td>36</td>\n",
       "      <td>3500.0</td>\n",
       "      <td>51.635742</td>\n",
       "    </tr>\n",
       "    <tr>\n",
       "      <th>623</th>\n",
       "      <td>2006-06-22</td>\n",
       "      <td>CE</td>\n",
       "      <td>3800.0</td>\n",
       "      <td>9.0</td>\n",
       "      <td>2994.75</td>\n",
       "      <td>2006-07-27</td>\n",
       "      <td>2994.75</td>\n",
       "      <td>35</td>\n",
       "      <td>3500.0</td>\n",
       "      <td>45.654297</td>\n",
       "    </tr>\n",
       "    <tr>\n",
       "      <th>624</th>\n",
       "      <td>2006-06-23</td>\n",
       "      <td>CE</td>\n",
       "      <td>3800.0</td>\n",
       "      <td>10.0</td>\n",
       "      <td>3042.70</td>\n",
       "      <td>2006-07-27</td>\n",
       "      <td>3042.70</td>\n",
       "      <td>34</td>\n",
       "      <td>3500.0</td>\n",
       "      <td>44.677734</td>\n",
       "    </tr>\n",
       "  </tbody>\n",
       "</table>\n",
       "</div>"
      ],
      "text/plain": [
       "          Date Option Type  Strike Price  close  Underlying     expiry  \\\n",
       "620 2006-06-19          CE        3800.0   12.0     2916.90 2006-07-27   \n",
       "621 2006-06-20          CE        3800.0   12.0     2861.30 2006-07-27   \n",
       "622 2006-06-21          CE        3800.0   12.0     2923.45 2006-07-27   \n",
       "623 2006-06-22          CE        3800.0    9.0     2994.75 2006-07-27   \n",
       "624 2006-06-23          CE        3800.0   10.0     3042.70 2006-07-27   \n",
       "\n",
       "     futures  days2expiry  atm_strike    call_iv  \n",
       "620  2916.90           38      3500.0  50.598145  \n",
       "621  2861.30           37      3500.0  54.321289  \n",
       "622  2923.45           36      3500.0  51.635742  \n",
       "623  2994.75           35      3500.0  45.654297  \n",
       "624  3042.70           34      3500.0  44.677734  "
      ]
     },
     "execution_count": 25,
     "metadata": {},
     "output_type": "execute_result"
    }
   ],
   "source": [
    "# test the function on sample; apply to larger if it works\n",
    "start = time.perf_counter()\n",
    "test_call['call_iv'] = test_call.apply(call_iv, axis = 1)\n",
    "end = time.perf_counter()\n",
    "\n",
    "total = end-start\n",
    "print(total)\n",
    "\n",
    "test_call.tail()"
   ]
  },
  {
   "cell_type": "markdown",
   "id": "b87c521f",
   "metadata": {},
   "source": [
    "### Calculate and explore IV for entire dataset"
   ]
  },
  {
   "cell_type": "code",
   "execution_count": 26,
   "id": "c9db69ba",
   "metadata": {},
   "outputs": [],
   "source": [
    "# def iv_calc(df):\n",
    "#     # function to call put or call function\n",
    "#     if (df['Option Type'] == 'PE'):\n",
    "#         return df.apply\n",
    "#     else:\n",
    "#         return call_iv"
   ]
  },
  {
   "cell_type": "code",
   "execution_count": 27,
   "id": "a36e63e1",
   "metadata": {},
   "outputs": [
    {
     "name": "stdout",
     "output_type": "stream",
     "text": [
      "<class 'pandas.core.frame.DataFrame'>\n",
      "Int64Index: 601 entries, 59 to 300\n",
      "Data columns (total 11 columns):\n",
      "Date            601 non-null datetime64[ns]\n",
      "Option Type     601 non-null object\n",
      "Strike Price    601 non-null float64\n",
      "Underlying      601 non-null float64\n",
      "atm_strike      601 non-null float64\n",
      "call_iv         295 non-null float64\n",
      "close           601 non-null float64\n",
      "days2expiry     601 non-null int64\n",
      "expiry          601 non-null datetime64[ns]\n",
      "futures         601 non-null float64\n",
      "put_iv          295 non-null float64\n",
      "dtypes: datetime64[ns](2), float64(7), int64(1), object(1)\n",
      "memory usage: 56.3+ KB\n"
     ]
    }
   ],
   "source": [
    "test_iv = pd.concat([test_call, test_put])\n",
    "test_iv.info()"
   ]
  },
  {
   "cell_type": "code",
   "execution_count": 28,
   "id": "77fb7e64",
   "metadata": {},
   "outputs": [
    {
     "name": "stdout",
     "output_type": "stream",
     "text": [
      "2155.9352718\n"
     ]
    },
    {
     "data": {
      "text/html": [
       "<div>\n",
       "<style scoped>\n",
       "    .dataframe tbody tr th:only-of-type {\n",
       "        vertical-align: middle;\n",
       "    }\n",
       "\n",
       "    .dataframe tbody tr th {\n",
       "        vertical-align: top;\n",
       "    }\n",
       "\n",
       "    .dataframe thead th {\n",
       "        text-align: right;\n",
       "    }\n",
       "</style>\n",
       "<table border=\"1\" class=\"dataframe\">\n",
       "  <thead>\n",
       "    <tr style=\"text-align: right;\">\n",
       "      <th></th>\n",
       "      <th>Date</th>\n",
       "      <th>Option Type</th>\n",
       "      <th>Strike Price</th>\n",
       "      <th>Underlying</th>\n",
       "      <th>atm_strike</th>\n",
       "      <th>call_iv</th>\n",
       "      <th>close</th>\n",
       "      <th>days2expiry</th>\n",
       "      <th>expiry</th>\n",
       "      <th>futures</th>\n",
       "      <th>put_iv</th>\n",
       "      <th>option_iv</th>\n",
       "    </tr>\n",
       "  </thead>\n",
       "  <tbody>\n",
       "    <tr>\n",
       "      <th>59</th>\n",
       "      <td>2006-04-07</td>\n",
       "      <td>CE</td>\n",
       "      <td>3600.0</td>\n",
       "      <td>3454.80</td>\n",
       "      <td>3500.0</td>\n",
       "      <td>21.484375</td>\n",
       "      <td>83.00</td>\n",
       "      <td>83</td>\n",
       "      <td>2006-06-29</td>\n",
       "      <td>3454.80</td>\n",
       "      <td>NaN</td>\n",
       "      <td>21.484375</td>\n",
       "    </tr>\n",
       "    <tr>\n",
       "      <th>60</th>\n",
       "      <td>2006-04-10</td>\n",
       "      <td>CE</td>\n",
       "      <td>3600.0</td>\n",
       "      <td>3478.45</td>\n",
       "      <td>3500.0</td>\n",
       "      <td>19.165039</td>\n",
       "      <td>75.00</td>\n",
       "      <td>80</td>\n",
       "      <td>2006-06-29</td>\n",
       "      <td>3478.45</td>\n",
       "      <td>NaN</td>\n",
       "      <td>19.165039</td>\n",
       "    </tr>\n",
       "    <tr>\n",
       "      <th>61</th>\n",
       "      <td>2006-04-12</td>\n",
       "      <td>CE</td>\n",
       "      <td>3600.0</td>\n",
       "      <td>3380.00</td>\n",
       "      <td>3500.0</td>\n",
       "      <td>19.515991</td>\n",
       "      <td>45.00</td>\n",
       "      <td>78</td>\n",
       "      <td>2006-06-29</td>\n",
       "      <td>3380.00</td>\n",
       "      <td>NaN</td>\n",
       "      <td>19.515991</td>\n",
       "    </tr>\n",
       "    <tr>\n",
       "      <th>62</th>\n",
       "      <td>2006-04-13</td>\n",
       "      <td>CE</td>\n",
       "      <td>3600.0</td>\n",
       "      <td>3345.50</td>\n",
       "      <td>3500.0</td>\n",
       "      <td>24.904251</td>\n",
       "      <td>62.55</td>\n",
       "      <td>77</td>\n",
       "      <td>2006-06-29</td>\n",
       "      <td>3345.50</td>\n",
       "      <td>NaN</td>\n",
       "      <td>24.904251</td>\n",
       "    </tr>\n",
       "    <tr>\n",
       "      <th>63</th>\n",
       "      <td>2006-04-17</td>\n",
       "      <td>CE</td>\n",
       "      <td>3600.0</td>\n",
       "      <td>3425.15</td>\n",
       "      <td>3500.0</td>\n",
       "      <td>21.499634</td>\n",
       "      <td>64.90</td>\n",
       "      <td>73</td>\n",
       "      <td>2006-06-29</td>\n",
       "      <td>3425.15</td>\n",
       "      <td>NaN</td>\n",
       "      <td>21.499634</td>\n",
       "    </tr>\n",
       "  </tbody>\n",
       "</table>\n",
       "</div>"
      ],
      "text/plain": [
       "         Date Option Type  Strike Price  Underlying  atm_strike    call_iv  \\\n",
       "59 2006-04-07          CE        3600.0     3454.80      3500.0  21.484375   \n",
       "60 2006-04-10          CE        3600.0     3478.45      3500.0  19.165039   \n",
       "61 2006-04-12          CE        3600.0     3380.00      3500.0  19.515991   \n",
       "62 2006-04-13          CE        3600.0     3345.50      3500.0  24.904251   \n",
       "63 2006-04-17          CE        3600.0     3425.15      3500.0  21.499634   \n",
       "\n",
       "    close  days2expiry     expiry  futures  put_iv  option_iv  \n",
       "59  83.00           83 2006-06-29  3454.80     NaN  21.484375  \n",
       "60  75.00           80 2006-06-29  3478.45     NaN  19.165039  \n",
       "61  45.00           78 2006-06-29  3380.00     NaN  19.515991  \n",
       "62  62.55           77 2006-06-29  3345.50     NaN  24.904251  \n",
       "63  64.90           73 2006-06-29  3425.15     NaN  21.499634  "
      ]
     },
     "execution_count": 28,
     "metadata": {},
     "output_type": "execute_result"
    }
   ],
   "source": [
    "# with serial processing\n",
    "start = time.perf_counter()\n",
    "test_iv['option_iv'] = np.where(test_iv['Option Type'] == 'CE', test_iv.apply(call_iv, axis = 1), test_iv.apply(put_iv, axis = 1))\n",
    "end = time.perf_counter()\n",
    "\n",
    "total = end-start\n",
    "print(total)\n",
    "\n",
    "test_iv.head()"
   ]
  },
  {
   "cell_type": "code",
   "execution_count": 37,
   "id": "621b40a0",
   "metadata": {},
   "outputs": [
    {
     "name": "stdout",
     "output_type": "stream",
     "text": [
      "Number of processors:  7\n"
     ]
    }
   ],
   "source": [
    "# get cpu count for parallelization\n",
    "num_proc = mp.cpu_count()-1\n",
    "print('Number of processors: ', num_proc)"
   ]
  },
  {
   "cell_type": "code",
   "execution_count": 30,
   "id": "543588ee",
   "metadata": {},
   "outputs": [],
   "source": [
    "def parallelize_df(df, func, n_cores = num_proc):\n",
    "    df_split = np.array_split(df, n_cores)\n",
    "    pool = mp.Pool(n_cores)\n",
    "    df = pd.concat(pool.map(func, df_split))\n",
    "    pool.close()\n",
    "    pool.join()\n",
    "    return df"
   ]
  },
  {
   "cell_type": "code",
   "execution_count": 31,
   "id": "fbc1f7f5",
   "metadata": {},
   "outputs": [
    {
     "data": {
      "text/plain": [
       "800.9007739999997"
      ]
     },
     "execution_count": 31,
     "metadata": {},
     "output_type": "execute_result"
    }
   ],
   "source": [
    "start = time.perf_counter()\n",
    "test_iv = parallelize_df(test_iv, iv_calc.iv_function)\n",
    "end = time.perf_counter()\n",
    "end-start"
   ]
  },
  {
   "cell_type": "code",
   "execution_count": 38,
   "id": "a73169a4",
   "metadata": {},
   "outputs": [
    {
     "data": {
      "text/html": [
       "<div>\n",
       "<style scoped>\n",
       "    .dataframe tbody tr th:only-of-type {\n",
       "        vertical-align: middle;\n",
       "    }\n",
       "\n",
       "    .dataframe tbody tr th {\n",
       "        vertical-align: top;\n",
       "    }\n",
       "\n",
       "    .dataframe thead th {\n",
       "        text-align: right;\n",
       "    }\n",
       "</style>\n",
       "<table border=\"1\" class=\"dataframe\">\n",
       "  <thead>\n",
       "    <tr style=\"text-align: right;\">\n",
       "      <th></th>\n",
       "      <th>Date</th>\n",
       "      <th>Option Type</th>\n",
       "      <th>Strike Price</th>\n",
       "      <th>close</th>\n",
       "      <th>Underlying</th>\n",
       "      <th>expiry</th>\n",
       "      <th>futures</th>\n",
       "      <th>days2expiry</th>\n",
       "      <th>atm_strike</th>\n",
       "    </tr>\n",
       "  </thead>\n",
       "  <tbody>\n",
       "    <tr>\n",
       "      <th>0</th>\n",
       "      <td>2006-04-07</td>\n",
       "      <td>PE</td>\n",
       "      <td>3600.0</td>\n",
       "      <td>143.6</td>\n",
       "      <td>3454.80</td>\n",
       "      <td>2006-06-29</td>\n",
       "      <td>3454.80</td>\n",
       "      <td>83</td>\n",
       "      <td>3500.0</td>\n",
       "    </tr>\n",
       "    <tr>\n",
       "      <th>1</th>\n",
       "      <td>2006-04-10</td>\n",
       "      <td>PE</td>\n",
       "      <td>3600.0</td>\n",
       "      <td>143.6</td>\n",
       "      <td>3478.45</td>\n",
       "      <td>2006-06-29</td>\n",
       "      <td>3478.45</td>\n",
       "      <td>80</td>\n",
       "      <td>3500.0</td>\n",
       "    </tr>\n",
       "    <tr>\n",
       "      <th>2</th>\n",
       "      <td>2006-04-12</td>\n",
       "      <td>PE</td>\n",
       "      <td>3600.0</td>\n",
       "      <td>143.6</td>\n",
       "      <td>3380.00</td>\n",
       "      <td>2006-06-29</td>\n",
       "      <td>3380.00</td>\n",
       "      <td>78</td>\n",
       "      <td>3500.0</td>\n",
       "    </tr>\n",
       "    <tr>\n",
       "      <th>3</th>\n",
       "      <td>2006-04-13</td>\n",
       "      <td>PE</td>\n",
       "      <td>3600.0</td>\n",
       "      <td>143.6</td>\n",
       "      <td>3345.50</td>\n",
       "      <td>2006-06-29</td>\n",
       "      <td>3345.50</td>\n",
       "      <td>77</td>\n",
       "      <td>3500.0</td>\n",
       "    </tr>\n",
       "    <tr>\n",
       "      <th>4</th>\n",
       "      <td>2006-04-17</td>\n",
       "      <td>PE</td>\n",
       "      <td>3600.0</td>\n",
       "      <td>143.6</td>\n",
       "      <td>3425.15</td>\n",
       "      <td>2006-06-29</td>\n",
       "      <td>3425.15</td>\n",
       "      <td>73</td>\n",
       "      <td>3500.0</td>\n",
       "    </tr>\n",
       "  </tbody>\n",
       "</table>\n",
       "</div>"
      ],
      "text/plain": [
       "        Date Option Type  Strike Price  close  Underlying     expiry  futures  \\\n",
       "0 2006-04-07          PE        3600.0  143.6     3454.80 2006-06-29  3454.80   \n",
       "1 2006-04-10          PE        3600.0  143.6     3478.45 2006-06-29  3478.45   \n",
       "2 2006-04-12          PE        3600.0  143.6     3380.00 2006-06-29  3380.00   \n",
       "3 2006-04-13          PE        3600.0  143.6     3345.50 2006-06-29  3345.50   \n",
       "4 2006-04-17          PE        3600.0  143.6     3425.15 2006-06-29  3425.15   \n",
       "\n",
       "   days2expiry  atm_strike  \n",
       "0           83      3500.0  \n",
       "1           80      3500.0  \n",
       "2           78      3500.0  \n",
       "3           77      3500.0  \n",
       "4           73      3500.0  "
      ]
     },
     "execution_count": 38,
     "metadata": {},
     "output_type": "execute_result"
    }
   ],
   "source": [
    "option2.head()"
   ]
  },
  {
   "cell_type": "code",
   "execution_count": null,
   "id": "d59e03e3",
   "metadata": {},
   "outputs": [],
   "source": [
    "start = time.perf_counter()\n",
    "option2 = parallelize_df(option2, iv_calc.iv_function)\n",
    "end = time.perf_counter()\n",
    "end-start"
   ]
  },
  {
   "cell_type": "code",
   "execution_count": null,
   "id": "97a4f9c6",
   "metadata": {},
   "outputs": [],
   "source": []
  },
  {
   "cell_type": "code",
   "execution_count": 32,
   "id": "3cd52178",
   "metadata": {},
   "outputs": [],
   "source": [
    "# plot call and put IV on a single chart\n",
    "# 2 charts - put and call; 90, 45, 30, 15, 5 days out in each chart over all the years"
   ]
  },
  {
   "cell_type": "code",
   "execution_count": 33,
   "id": "5fb22dea",
   "metadata": {},
   "outputs": [],
   "source": [
    "# IV changes for a volatile period +/- 10 days for 2008, 2017 and 2020 crises\n",
    "# get exact dates from previous blogpost"
   ]
  },
  {
   "cell_type": "markdown",
   "id": "26ad4e4c",
   "metadata": {},
   "source": [
    "### Does the volatility smile exist?"
   ]
  },
  {
   "cell_type": "code",
   "execution_count": 34,
   "id": "4b6d23a7",
   "metadata": {},
   "outputs": [],
   "source": [
    "# plot for option price 30 days to expiry with 4 months times 4 years\n",
    "# same expiry date and same days2expiry"
   ]
  },
  {
   "cell_type": "markdown",
   "id": "6ba486b5",
   "metadata": {},
   "source": [
    "### Exploring Convexity"
   ]
  },
  {
   "cell_type": "code",
   "execution_count": 35,
   "id": "2acc2bea",
   "metadata": {},
   "outputs": [],
   "source": [
    "# find periods with > 3SD movement"
   ]
  },
  {
   "cell_type": "code",
   "execution_count": 36,
   "id": "3af20d0f",
   "metadata": {},
   "outputs": [],
   "source": [
    "# Plot change in premium of option that is 2SD OTM - both put and call"
   ]
  },
  {
   "cell_type": "code",
   "execution_count": null,
   "id": "ec3dab7e",
   "metadata": {},
   "outputs": [],
   "source": []
  }
 ],
 "metadata": {
  "kernelspec": {
   "display_name": "Python 3",
   "language": "python",
   "name": "python3"
  },
  "language_info": {
   "codemirror_mode": {
    "name": "ipython",
    "version": 3
   },
   "file_extension": ".py",
   "mimetype": "text/x-python",
   "name": "python",
   "nbconvert_exporter": "python",
   "pygments_lexer": "ipython3",
   "version": "3.6.12"
  }
 },
 "nbformat": 4,
 "nbformat_minor": 5
}
