{
 "cells": [
  {
   "cell_type": "code",
   "execution_count": 1,
   "id": "medieval-depression",
   "metadata": {},
   "outputs": [],
   "source": [
    "# use python 3.6\n",
    "import time\n",
    "import datetime\n",
    "from datetime import date\n",
    "\n",
    "import os\n",
    "import random\n",
    "import pandas as pd\n",
    "import matplotlib.pyplot as plt\n",
    "import numpy as np\n",
    "from dateutil.relativedelta import relativedelta\n",
    "# from pandas.tseries.offsets import DateOffset\n",
    "# from pandas.tseries.offsets import MonthOffset\n",
    "\n",
    "# finnacial data\n",
    "from nsepy import get_history\n",
    "from nsepy.derivatives import get_expiry_date"
   ]
  },
  {
   "cell_type": "code",
   "execution_count": 2,
   "id": "regulated-significance",
   "metadata": {},
   "outputs": [
    {
     "name": "stdout",
     "output_type": "stream",
     "text": [
      "C:\\Users\\gurdeep.singh\\OneDrive\\FinStuff\\FatTailGain\\fattailgain\\nifty_option_data_15yr\\code\n",
      "C:\\Users\\gurdeep.singh\\OneDrive\\FinStuff\\FatTailGain\\fattailgain\\nifty_option_data_15yr\\\n"
     ]
    }
   ],
   "source": [
    "# path to load and save folders\n",
    "# create 2 folders - \"code\" 1 for code and \"data_output\"\n",
    "# run notebook from code folder; data will get stored in data_output as csv\n",
    "\n",
    "cwd = os.getcwd(); print(cwd)\n",
    "save_path = cwd[:-4]; print(save_path)"
   ]
  },
  {
   "cell_type": "markdown",
   "id": "framed-start",
   "metadata": {},
   "source": [
    "### Story so far\n",
    "\n",
    "* Previously in black swan post we identified that black swan events are more frequent than a normal distribution would lead us to believe\n",
    "* We saw the impact of being able to reduce the impact of such events or being able to capture the upside\n",
    "\n",
    "### Objective\n",
    "\n",
    "* There are multiple ways of hedging yourself against such events; which can be another post in itself.\n",
    "* For me the most interesting place to start is using equity options.\n",
    "* Before we start buying options its always good to backtest different strategies\n",
    "* In this post I write about downloading 15 years of options data which can be used in a backtest\n",
    "\n",
    "Note: All the code is based on the documentation of NSEPY(add link) and the book (add link)"
   ]
  },
  {
   "cell_type": "markdown",
   "id": "fifty-twins",
   "metadata": {},
   "source": [
    "### Segue into options 101\n",
    "\n",
    "* In order to follow further you need to know the basics of options - add youtube video link\n",
    "* 2 minute Maggi Noodle version \n",
    "    * Options are like term insurance - you get a payout if something happens; death in case of term insurance\n",
    "    * Unlike term insurance - options also have a payout if an event happens \n",
    "    * Just like term insurance you need to pay a premium\n",
    "    * Just like term insurance the arrangement is valid for a predefined period\n",
    "    * Unlike term insurance options work both ways; i.e. depending on how the contract is made options payoff if the value is above or below the contract price\n",
    "    * Unlike your life insurance these option contracts can also be bought and sold in the markets; changes in their value depends on multiple factors such as time to expiry, market conditions, prevailing interest ratest, difference between the option contract value and current market price\n",
    "            * Term Insurance Example - You get paid 10 Lakh rupees if you die anytime during the next 15 years; provided you pay us Rs. 75,000 per year\n",
    "            * Option Contract Example - You get paid a the market price of the NSE Nifty if it closes above 15,000 on the contract expiry date\n",
    "\n",
    "Note: This is an extremely simplistic view. Please read and watch some videos to understand this further. And don't trade in options till you don't understand the risks"
   ]
  },
  {
   "cell_type": "code",
   "execution_count": 3,
   "id": "least-chick",
   "metadata": {
    "scrolled": true
   },
   "outputs": [
    {
     "name": "stdout",
     "output_type": "stream",
     "text": [
      "(38, 16)\n"
     ]
    },
    {
     "data": {
      "text/html": [
       "<div>\n",
       "<style scoped>\n",
       "    .dataframe tbody tr th:only-of-type {\n",
       "        vertical-align: middle;\n",
       "    }\n",
       "\n",
       "    .dataframe tbody tr th {\n",
       "        vertical-align: top;\n",
       "    }\n",
       "\n",
       "    .dataframe thead th {\n",
       "        text-align: right;\n",
       "    }\n",
       "</style>\n",
       "<table border=\"1\" class=\"dataframe\">\n",
       "  <thead>\n",
       "    <tr style=\"text-align: right;\">\n",
       "      <th></th>\n",
       "      <th>Symbol</th>\n",
       "      <th>Expiry</th>\n",
       "      <th>Option Type</th>\n",
       "      <th>Strike Price</th>\n",
       "      <th>Open</th>\n",
       "      <th>High</th>\n",
       "      <th>Low</th>\n",
       "      <th>Close</th>\n",
       "      <th>Last</th>\n",
       "      <th>Settle Price</th>\n",
       "      <th>Number of Contracts</th>\n",
       "      <th>Turnover</th>\n",
       "      <th>Premium Turnover</th>\n",
       "      <th>Open Interest</th>\n",
       "      <th>Change in OI</th>\n",
       "      <th>Underlying</th>\n",
       "    </tr>\n",
       "    <tr>\n",
       "      <th>Date</th>\n",
       "      <th></th>\n",
       "      <th></th>\n",
       "      <th></th>\n",
       "      <th></th>\n",
       "      <th></th>\n",
       "      <th></th>\n",
       "      <th></th>\n",
       "      <th></th>\n",
       "      <th></th>\n",
       "      <th></th>\n",
       "      <th></th>\n",
       "      <th></th>\n",
       "      <th></th>\n",
       "      <th></th>\n",
       "      <th></th>\n",
       "      <th></th>\n",
       "    </tr>\n",
       "  </thead>\n",
       "  <tbody>\n",
       "    <tr>\n",
       "      <th>2004-12-03</th>\n",
       "      <td>NIFTY</td>\n",
       "      <td>2005-01-27</td>\n",
       "      <td>PE</td>\n",
       "      <td>2000.0</td>\n",
       "      <td>61.95</td>\n",
       "      <td>65.00</td>\n",
       "      <td>57.5</td>\n",
       "      <td>65.00</td>\n",
       "      <td>64.90</td>\n",
       "      <td>65.00</td>\n",
       "      <td>312</td>\n",
       "      <td>128725000.0</td>\n",
       "      <td>NaN</td>\n",
       "      <td>46800</td>\n",
       "      <td>46800</td>\n",
       "      <td>1996.20</td>\n",
       "    </tr>\n",
       "    <tr>\n",
       "      <th>2004-12-06</th>\n",
       "      <td>NIFTY</td>\n",
       "      <td>2005-01-27</td>\n",
       "      <td>PE</td>\n",
       "      <td>2000.0</td>\n",
       "      <td>52.10</td>\n",
       "      <td>62.30</td>\n",
       "      <td>52.1</td>\n",
       "      <td>55.40</td>\n",
       "      <td>55.40</td>\n",
       "      <td>55.40</td>\n",
       "      <td>170</td>\n",
       "      <td>70036000.0</td>\n",
       "      <td>NaN</td>\n",
       "      <td>75400</td>\n",
       "      <td>28600</td>\n",
       "      <td>1993.15</td>\n",
       "    </tr>\n",
       "    <tr>\n",
       "      <th>2004-12-07</th>\n",
       "      <td>NIFTY</td>\n",
       "      <td>2005-01-27</td>\n",
       "      <td>PE</td>\n",
       "      <td>2000.0</td>\n",
       "      <td>59.00</td>\n",
       "      <td>62.85</td>\n",
       "      <td>59.0</td>\n",
       "      <td>62.85</td>\n",
       "      <td>62.85</td>\n",
       "      <td>62.85</td>\n",
       "      <td>3</td>\n",
       "      <td>1237000.0</td>\n",
       "      <td>NaN</td>\n",
       "      <td>75200</td>\n",
       "      <td>-200</td>\n",
       "      <td>1992.70</td>\n",
       "    </tr>\n",
       "  </tbody>\n",
       "</table>\n",
       "</div>"
      ],
      "text/plain": [
       "           Symbol      Expiry Option Type  Strike Price   Open   High   Low  \\\n",
       "Date                                                                          \n",
       "2004-12-03  NIFTY  2005-01-27          PE        2000.0  61.95  65.00  57.5   \n",
       "2004-12-06  NIFTY  2005-01-27          PE        2000.0  52.10  62.30  52.1   \n",
       "2004-12-07  NIFTY  2005-01-27          PE        2000.0  59.00  62.85  59.0   \n",
       "\n",
       "            Close   Last  Settle Price  Number of Contracts     Turnover  \\\n",
       "Date                                                                       \n",
       "2004-12-03  65.00  64.90         65.00                  312  128725000.0   \n",
       "2004-12-06  55.40  55.40         55.40                  170   70036000.0   \n",
       "2004-12-07  62.85  62.85         62.85                    3    1237000.0   \n",
       "\n",
       "            Premium Turnover  Open Interest  Change in OI  Underlying  \n",
       "Date                                                                   \n",
       "2004-12-03               NaN          46800         46800     1996.20  \n",
       "2004-12-06               NaN          75400         28600     1993.15  \n",
       "2004-12-07               NaN          75200          -200     1992.70  "
      ]
     },
     "execution_count": 3,
     "metadata": {},
     "output_type": "execute_result"
    }
   ],
   "source": [
    "# lets try to download for a single option first; manually specify dates\n",
    "sample_opt1 = get_history(symbol = 'NIFTY',\n",
    "                        start = date(2004,11,1), end = date(2005,1,27),\n",
    "                        index = True,\n",
    "                        option_type = 'PE',\n",
    "                        strike_price = 2000,\n",
    "                        expiry_date = date(2005,1,27))\n",
    "\n",
    "print(sample_opt1.shape)\n",
    "sample_opt1.head(n=3)"
   ]
  },
  {
   "cell_type": "markdown",
   "id": "packed-horror",
   "metadata": {},
   "source": [
    "###  As seen above\n",
    "\n",
    "* Downloading manually is too cumbersome since\n",
    "* multiple strikes\n",
    "* multiple expiries\n",
    "* Limits to 1 contract at a time \n",
    "* Add screenshot"
   ]
  },
  {
   "cell_type": "markdown",
   "id": "purple-mobile",
   "metadata": {},
   "source": [
    "### Which options data should we download\n",
    "\n",
    "* Call, Put\n",
    "* daily, monthly, yearly\n",
    "* monthly - most liquid\n",
    "* weekly started around ...\n",
    "* 3 months prior to expiry\n",
    "* above and below 1000 points \n",
    "\n",
    "### So lets code\n",
    "\n",
    "* if we have to loop we need to automate the changeover of dates and strike prices; lets 1st run a simple code to do that"
   ]
  },
  {
   "cell_type": "code",
   "execution_count": 4,
   "id": "standing-companion",
   "metadata": {},
   "outputs": [
    {
     "name": "stdout",
     "output_type": "stream",
     "text": [
      "2005-01-01\n",
      "<class 'datetime.date'>\n"
     ]
    },
    {
     "data": {
      "text/plain": [
       "datetime.date"
      ]
     },
     "execution_count": 4,
     "metadata": {},
     "output_type": "execute_result"
    }
   ],
   "source": [
    "# current date - 3 months prior to the 1st option contract expiry\n",
    "current_date = date(2005, 1,1); print(current_date); print(type(current_date))\n",
    "type(current_date)"
   ]
  },
  {
   "cell_type": "code",
   "execution_count": 5,
   "id": "worthy-technical",
   "metadata": {},
   "outputs": [
    {
     "name": "stdout",
     "output_type": "stream",
     "text": [
      "2004-11-01\n",
      "<class 'datetime.date'>\n",
      "Start Month: 1\n",
      "Start Year:  2004\n"
     ]
    }
   ],
   "source": [
    "# price download start date\n",
    "start_date = current_date + relativedelta(months = -2); print(start_date); print(type(start_date))\n",
    "start_month = current_date.month; print('Start Month:', start_month)\n",
    "\n",
    "start_yr = start_date.year; print('Start Year: ', start_yr)\n"
   ]
  },
  {
   "cell_type": "code",
   "execution_count": 6,
   "id": "whole-insight",
   "metadata": {},
   "outputs": [
    {
     "name": "stdout",
     "output_type": "stream",
     "text": [
      "End Month: 1\n",
      "End Year:  2005\n",
      "Expiry_date: 2005-01-27 Type:  <class 'datetime.date'>\n"
     ]
    },
    {
     "data": {
      "text/plain": [
       "datetime.date"
      ]
     },
     "execution_count": 6,
     "metadata": {},
     "output_type": "execute_result"
    }
   ],
   "source": [
    "# get expiry date\n",
    "\n",
    "end_month = current_date.month; print('End Month:', end_month)\n",
    "\n",
    "end_yr = current_date.year; print('End Year: ', end_yr)\n",
    "\n",
    "# Use the get expiry function to get a list of expiry dates - sample below\n",
    "# get_expiry_date returns a list of weekly expiries; use max to get the month end expiry date\n",
    "\n",
    "expiry_date = max(get_expiry_date(year = end_yr, month = end_month))\n",
    "print('Expiry_date:', expiry_date, 'Type: ', type(expiry_date))\n",
    "type(expiry_date)"
   ]
  },
  {
   "cell_type": "code",
   "execution_count": 7,
   "id": "decreased-myrtle",
   "metadata": {
    "scrolled": true
   },
   "outputs": [
    {
     "name": "stdout",
     "output_type": "stream",
     "text": [
      "(38, 16)\n"
     ]
    },
    {
     "data": {
      "text/html": [
       "<div>\n",
       "<style scoped>\n",
       "    .dataframe tbody tr th:only-of-type {\n",
       "        vertical-align: middle;\n",
       "    }\n",
       "\n",
       "    .dataframe tbody tr th {\n",
       "        vertical-align: top;\n",
       "    }\n",
       "\n",
       "    .dataframe thead th {\n",
       "        text-align: right;\n",
       "    }\n",
       "</style>\n",
       "<table border=\"1\" class=\"dataframe\">\n",
       "  <thead>\n",
       "    <tr style=\"text-align: right;\">\n",
       "      <th></th>\n",
       "      <th>Symbol</th>\n",
       "      <th>Expiry</th>\n",
       "      <th>Option Type</th>\n",
       "      <th>Strike Price</th>\n",
       "      <th>Open</th>\n",
       "      <th>High</th>\n",
       "      <th>Low</th>\n",
       "      <th>Close</th>\n",
       "      <th>Last</th>\n",
       "      <th>Settle Price</th>\n",
       "      <th>Number of Contracts</th>\n",
       "      <th>Turnover</th>\n",
       "      <th>Premium Turnover</th>\n",
       "      <th>Open Interest</th>\n",
       "      <th>Change in OI</th>\n",
       "      <th>Underlying</th>\n",
       "    </tr>\n",
       "    <tr>\n",
       "      <th>Date</th>\n",
       "      <th></th>\n",
       "      <th></th>\n",
       "      <th></th>\n",
       "      <th></th>\n",
       "      <th></th>\n",
       "      <th></th>\n",
       "      <th></th>\n",
       "      <th></th>\n",
       "      <th></th>\n",
       "      <th></th>\n",
       "      <th></th>\n",
       "      <th></th>\n",
       "      <th></th>\n",
       "      <th></th>\n",
       "      <th></th>\n",
       "      <th></th>\n",
       "    </tr>\n",
       "  </thead>\n",
       "  <tbody>\n",
       "    <tr>\n",
       "      <th>2004-12-03</th>\n",
       "      <td>NIFTY</td>\n",
       "      <td>2005-01-27</td>\n",
       "      <td>PE</td>\n",
       "      <td>2000.0</td>\n",
       "      <td>61.95</td>\n",
       "      <td>65.00</td>\n",
       "      <td>57.5</td>\n",
       "      <td>65.00</td>\n",
       "      <td>64.90</td>\n",
       "      <td>65.00</td>\n",
       "      <td>312</td>\n",
       "      <td>128725000.0</td>\n",
       "      <td>NaN</td>\n",
       "      <td>46800</td>\n",
       "      <td>46800</td>\n",
       "      <td>1996.20</td>\n",
       "    </tr>\n",
       "    <tr>\n",
       "      <th>2004-12-06</th>\n",
       "      <td>NIFTY</td>\n",
       "      <td>2005-01-27</td>\n",
       "      <td>PE</td>\n",
       "      <td>2000.0</td>\n",
       "      <td>52.10</td>\n",
       "      <td>62.30</td>\n",
       "      <td>52.1</td>\n",
       "      <td>55.40</td>\n",
       "      <td>55.40</td>\n",
       "      <td>55.40</td>\n",
       "      <td>170</td>\n",
       "      <td>70036000.0</td>\n",
       "      <td>NaN</td>\n",
       "      <td>75400</td>\n",
       "      <td>28600</td>\n",
       "      <td>1993.15</td>\n",
       "    </tr>\n",
       "    <tr>\n",
       "      <th>2004-12-07</th>\n",
       "      <td>NIFTY</td>\n",
       "      <td>2005-01-27</td>\n",
       "      <td>PE</td>\n",
       "      <td>2000.0</td>\n",
       "      <td>59.00</td>\n",
       "      <td>62.85</td>\n",
       "      <td>59.0</td>\n",
       "      <td>62.85</td>\n",
       "      <td>62.85</td>\n",
       "      <td>62.85</td>\n",
       "      <td>3</td>\n",
       "      <td>1237000.0</td>\n",
       "      <td>NaN</td>\n",
       "      <td>75200</td>\n",
       "      <td>-200</td>\n",
       "      <td>1992.70</td>\n",
       "    </tr>\n",
       "  </tbody>\n",
       "</table>\n",
       "</div>"
      ],
      "text/plain": [
       "           Symbol      Expiry Option Type  Strike Price   Open   High   Low  \\\n",
       "Date                                                                          \n",
       "2004-12-03  NIFTY  2005-01-27          PE        2000.0  61.95  65.00  57.5   \n",
       "2004-12-06  NIFTY  2005-01-27          PE        2000.0  52.10  62.30  52.1   \n",
       "2004-12-07  NIFTY  2005-01-27          PE        2000.0  59.00  62.85  59.0   \n",
       "\n",
       "            Close   Last  Settle Price  Number of Contracts     Turnover  \\\n",
       "Date                                                                       \n",
       "2004-12-03  65.00  64.90         65.00                  312  128725000.0   \n",
       "2004-12-06  55.40  55.40         55.40                  170   70036000.0   \n",
       "2004-12-07  62.85  62.85         62.85                    3    1237000.0   \n",
       "\n",
       "            Premium Turnover  Open Interest  Change in OI  Underlying  \n",
       "Date                                                                   \n",
       "2004-12-03               NaN          46800         46800     1996.20  \n",
       "2004-12-06               NaN          75400         28600     1993.15  \n",
       "2004-12-07               NaN          75200          -200     1992.70  "
      ]
     },
     "execution_count": 7,
     "metadata": {},
     "output_type": "execute_result"
    }
   ],
   "source": [
    "# test out for a single option - with using dates as variables before we write the loop\n",
    "sample_opt2 = get_history(symbol = 'NIFTY',\n",
    "                        start = start_date, end = expiry_date,\n",
    "                        index = True,\n",
    "                        option_type = 'PE',\n",
    "                        strike_price = 2000,\n",
    "                        expiry_date = expiry_date)\n",
    "print(sample_opt2.shape)\n",
    "sample_opt2.head(n=3)"
   ]
  },
  {
   "cell_type": "markdown",
   "id": "floating-seeking",
   "metadata": {},
   "source": [
    "### Lets loop\n",
    "\n",
    "* We have to loop over\n",
    "    * 15 years\n",
    "    * 12 months in each year\n",
    "    * At least 6-8 strike prices\n",
    "    * 2 types of options for each strike\n",
    "    \n",
    "* Also the changeover of dates should be random\n",
    "* We need to download data for 3 months prior to each month to the expiry date of the month\n",
    "* Start dates have to move in a rolling window\n",
    "* Give example"
   ]
  },
  {
   "cell_type": "code",
   "execution_count": 8,
   "id": "minor-france",
   "metadata": {
    "scrolled": true
   },
   "outputs": [
    {
     "name": "stdout",
     "output_type": "stream",
     "text": [
      "[ 1  2  3  4  5  6  7  8  9 10 11 12]\n",
      "[2005 2006 2007 2008 2009 2010 2011 2012 2013 2014 2015 2016 2017 2018\n",
      " 2019 2020]\n"
     ]
    }
   ],
   "source": [
    "# define and month year range to loop over\n",
    "month_list = np.arange(1, 13, step = 1); print(month_list)\n",
    "yr_list = np.arange(2005, 2021, step = 1 ); print(yr_list)"
   ]
  },
  {
   "cell_type": "code",
   "execution_count": 9,
   "id": "martial-investing",
   "metadata": {},
   "outputs": [],
   "source": [
    "# empty dataframe\n",
    "nifty_data = pd.DataFrame() # to use in the loop\n",
    "option_data = pd.DataFrame() # to store output\n",
    "counter = 0"
   ]
  },
  {
   "cell_type": "code",
   "execution_count": 11,
   "id": "cellular-mixer",
   "metadata": {
    "scrolled": false
   },
   "outputs": [
    {
     "name": "stdout",
     "output_type": "stream",
     "text": [
      "Year:  2005\n",
      "Month:  1\n"
     ]
    },
    {
     "ename": "KeyboardInterrupt",
     "evalue": "",
     "output_type": "error",
     "traceback": [
      "\u001b[1;31m---------------------------------------------------------------------------\u001b[0m",
      "\u001b[1;31mKeyboardInterrupt\u001b[0m                         Traceback (most recent call last)",
      "\u001b[1;32m<ipython-input-11-8a2ca95b4514>\u001b[0m in \u001b[0;36m<module>\u001b[1;34m\u001b[0m\n\u001b[0;32m     39\u001b[0m             \u001b[0moption_data\u001b[0m \u001b[1;33m=\u001b[0m \u001b[0moption_data\u001b[0m\u001b[1;33m.\u001b[0m\u001b[0mappend\u001b[0m\u001b[1;33m(\u001b[0m\u001b[0mnifty_opt\u001b[0m\u001b[1;33m)\u001b[0m\u001b[1;33m\u001b[0m\u001b[1;33m\u001b[0m\u001b[0m\n\u001b[0;32m     40\u001b[0m \u001b[1;33m\u001b[0m\u001b[0m\n\u001b[1;32m---> 41\u001b[1;33m             \u001b[0mtime\u001b[0m\u001b[1;33m.\u001b[0m\u001b[0msleep\u001b[0m\u001b[1;33m(\u001b[0m\u001b[0mrandom\u001b[0m\u001b[1;33m.\u001b[0m\u001b[0mrandint\u001b[0m\u001b[1;33m(\u001b[0m\u001b[1;36m20\u001b[0m\u001b[1;33m,\u001b[0m\u001b[1;36m50\u001b[0m\u001b[1;33m)\u001b[0m\u001b[1;33m)\u001b[0m \u001b[1;31m# pause for random interval so as to not overwhelm the site\u001b[0m\u001b[1;33m\u001b[0m\u001b[1;33m\u001b[0m\u001b[0m\n\u001b[0m\u001b[0;32m     42\u001b[0m             nifty_opt = get_history(symbol = 'NIFTY',\n\u001b[0;32m     43\u001b[0m                                    \u001b[0mstart\u001b[0m \u001b[1;33m=\u001b[0m \u001b[0mstart_dt\u001b[0m\u001b[1;33m,\u001b[0m \u001b[0mend\u001b[0m \u001b[1;33m=\u001b[0m \u001b[0mend_dt\u001b[0m\u001b[1;33m,\u001b[0m\u001b[1;33m\u001b[0m\u001b[1;33m\u001b[0m\u001b[0m\n",
      "\u001b[1;31mKeyboardInterrupt\u001b[0m: "
     ]
    }
   ],
   "source": [
    "for yr in yr_list:\n",
    "    # loop through all the months and years\n",
    "    print('Year: ', yr)\n",
    "    for mnth in month_list:\n",
    "        current_dt = date(yr, mnth, 1)\n",
    "        start_dt = current_dt + relativedelta(months = -2)\n",
    "        end_dt = max(get_expiry_date(year = yr, month = mnth))\n",
    "        \n",
    "        # print('current: ', current_dt)\n",
    "        # print('start: ', start_dt)\n",
    "        # print('end: ', end_dt)\n",
    "        \n",
    "        # get nifty futures data\n",
    "        nifty_fut = get_history(symbol = 'NIFTY',\n",
    "                               start = start_dt, end = end_dt,\n",
    "                               index = True, futures = True,\n",
    "                               expiry_date = end_dt)\n",
    "        nifty_data = nifty_data.append(nifty_fut)\n",
    "        \n",
    "        # calculate high and low values for each month; round off to get strike prices\n",
    "        high = nifty_fut['Close'].max()\n",
    "        high = int(round(high/100)*100) + 100# ; print('High:', high)\n",
    "        \n",
    "        low = nifty_fut['Close'].min()\n",
    "        low = int(round(low/100)*100) + 100# ; print('Low :', low)\n",
    "        \n",
    "        for strike in range(low, high, 100): # start, stop, step\n",
    "            \"\"\"\n",
    "            get daily closing nifty index option prices for 3 months \n",
    "            over the entire range \n",
    "            \"\"\"\n",
    "            time.sleep(random.randint(20,50)) # pause for random interval so as to not overwhelm the site\n",
    "            nifty_opt = get_history(symbol = 'NIFTY',\n",
    "                                   start = start_dt, end = end_dt,\n",
    "                                   index = True, option_type = 'PE',\n",
    "                                   strike_price = strike,\n",
    "                                   expiry_date = end_dt)\n",
    "            \n",
    "            option_data = option_data.append(nifty_opt)\n",
    "            \n",
    "            time.sleep(random.randint(20,50)) # pause for random interval so as to not overwhelm the site\n",
    "            nifty_opt = get_history(symbol = 'NIFTY',\n",
    "                                   start = start_dt, end = end_dt,\n",
    "                                   index = True, option_type = 'CE',\n",
    "                                   strike_price = strike,\n",
    "                                   expiry_date = end_dt)\n",
    "            \n",
    "            option_data = option_data.append(nifty_opt)\n",
    "            \n",
    "        counter+=1\n",
    "        print('Months: ', counter)\n",
    "        # print(month)       "
   ]
  },
  {
   "cell_type": "code",
   "execution_count": null,
   "id": "modified-plate",
   "metadata": {},
   "outputs": [],
   "source": [
    "# visually verify\n",
    "print(option_data.shape)\n",
    "option_data.tail()"
   ]
  },
  {
   "cell_type": "code",
   "execution_count": null,
   "id": "olive-brief",
   "metadata": {},
   "outputs": [],
   "source": [
    "# save to csv for future use\n",
    "option_data.to_csv(save_path + \"data_output/nifty_15 yr_data.csv\")"
   ]
  }
 ],
 "metadata": {
  "kernelspec": {
   "display_name": "Python 3",
   "language": "python",
   "name": "python3"
  },
  "language_info": {
   "codemirror_mode": {
    "name": "ipython",
    "version": 3
   },
   "file_extension": ".py",
   "mimetype": "text/x-python",
   "name": "python",
   "nbconvert_exporter": "python",
   "pygments_lexer": "ipython3",
   "version": "3.6.12"
  }
 },
 "nbformat": 4,
 "nbformat_minor": 5
}
