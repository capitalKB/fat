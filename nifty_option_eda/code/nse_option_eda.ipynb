{
 "cells": [
  {
   "cell_type": "code",
   "execution_count": 1,
   "id": "aggregate-character",
   "metadata": {},
   "outputs": [],
   "source": [
    "# use python 3.6\n",
    "import time\n",
    "import datetime\n",
    "from datetime import date\n",
    "\n",
    "import os\n",
    "import random\n",
    "import pandas as pd\n",
    "import matplotlib.pyplot as plt\n",
    "import numpy as np\n",
    "from dateutil.relativedelta import relativedelta\n",
    "# from pandas.tseries.offsets import DateOffset\n",
    "# from pandas.tseries.offsets import MonthOffset\n",
    "\n",
    "# finnacial data\n",
    "from nsepy import get_history\n",
    "from nsepy.derivatives import get_expiry_date\n",
    "import mibian"
   ]
  },
  {
   "cell_type": "code",
   "execution_count": null,
   "id": "demographic-overhead",
   "metadata": {},
   "outputs": [],
   "source": []
  }
 ],
 "metadata": {
  "kernelspec": {
   "display_name": "Python 3",
   "language": "python",
   "name": "python3"
  },
  "language_info": {
   "codemirror_mode": {
    "name": "ipython",
    "version": 3
   },
   "file_extension": ".py",
   "mimetype": "text/x-python",
   "name": "python",
   "nbconvert_exporter": "python",
   "pygments_lexer": "ipython3",
   "version": "3.6.12"
  }
 },
 "nbformat": 4,
 "nbformat_minor": 5
}
