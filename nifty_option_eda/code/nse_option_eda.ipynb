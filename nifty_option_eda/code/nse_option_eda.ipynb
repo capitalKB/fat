{
 "cells": [
  {
   "cell_type": "code",
   "execution_count": 1,
   "id": "general-training",
   "metadata": {},
   "outputs": [],
   "source": [
    "# use python 3.6\n",
    "import time\n",
    "import datetime\n",
    "from datetime import date\n",
    "\n",
    "import os\n",
    "import random\n",
    "import pandas as pd\n",
    "import matplotlib.pyplot as plt\n",
    "import numpy as np\n",
    "from dateutil.relativedelta import relativedelta\n",
    "# from pandas.tseries.offsets import DateOffset\n",
    "# from pandas.tseries.offsets import MonthOffset\n",
    "\n",
    "# finnacial data\n",
    "from nsepy import get_history\n",
    "from nsepy.derivatives import get_expiry_date\n",
    "import mibian"
   ]
  },
  {
   "cell_type": "code",
   "execution_count": 2,
   "id": "invalid-company",
   "metadata": {},
   "outputs": [],
   "source": [
    "# load data\n",
    "\n",
    "# load options data\n",
    "\n",
    "# load futures price\n",
    "\n",
    "# load interest rate - this may not be needed since we can use futures price as underlying"
   ]
  },
  {
   "cell_type": "markdown",
   "id": "respective-amount",
   "metadata": {},
   "source": [
    "### Option pricing\n",
    "\n",
    "Option pricing depents on\n",
    "\n",
    "* Underlying price - Nifty in this case "
   ]
  },
  {
   "cell_type": "code",
   "execution_count": null,
   "id": "similar-valley",
   "metadata": {},
   "outputs": [],
   "source": [
    "# calculate IV for single option"
   ]
  }
 ],
 "metadata": {
  "kernelspec": {
   "display_name": "Python 3",
   "language": "python",
   "name": "python3"
  },
  "language_info": {
   "codemirror_mode": {
    "name": "ipython",
    "version": 3
   },
   "file_extension": ".py",
   "mimetype": "text/x-python",
   "name": "python",
   "nbconvert_exporter": "python",
   "pygments_lexer": "ipython3",
   "version": "3.6.12"
  }
 },
 "nbformat": 4,
 "nbformat_minor": 5
}
