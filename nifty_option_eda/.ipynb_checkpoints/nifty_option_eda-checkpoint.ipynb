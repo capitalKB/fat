{
 "cells": [
  {
   "cell_type": "code",
   "execution_count": 2,
   "id": "80ad002b",
   "metadata": {},
   "outputs": [],
   "source": [
    "# use python 3.6 to download option data from nsepy\n",
    "import time\n",
    "import datetime\n",
    "#from datetime import date\n",
    "\n",
    "import os\n",
    "import random\n",
    "import pandas as pd\n",
    "import matplotlib.pyplot as plt\n",
    "import numpy as np\n",
    "#from dateutil.relativedelta import relativedelta\n",
    "# from pandas.tseries.offsets import DateOffset\n",
    "# from pandas.tseries.offsets import MonthOffset\n",
    "\n",
    "# finnacial data\n",
    "# from nsepy import get_history\n",
    "# from nsepy.derivatives import get_expiry_date\n",
    "#import mibian"
   ]
  },
  {
   "cell_type": "code",
   "execution_count": 3,
   "id": "4a174010",
   "metadata": {},
   "outputs": [],
   "source": [
    "# load all 5 dfs and concatenate"
   ]
  },
  {
   "cell_type": "code",
   "execution_count": null,
   "id": "ccee6a5f",
   "metadata": {},
   "outputs": [],
   "source": []
  },
  {
   "cell_type": "code",
   "execution_count": null,
   "id": "5051e246",
   "metadata": {},
   "outputs": [],
   "source": []
  },
  {
   "cell_type": "code",
   "execution_count": null,
   "id": "44e16741",
   "metadata": {},
   "outputs": [],
   "source": []
  },
  {
   "cell_type": "code",
   "execution_count": 32,
   "id": "3cd52178",
   "metadata": {},
   "outputs": [],
   "source": [
    "# plot call and put IV on a single chart\n",
    "# 2 charts - put and call; 90, 45, 30, 15, 5 days out in each chart over all the years"
   ]
  },
  {
   "cell_type": "code",
   "execution_count": 33,
   "id": "5fb22dea",
   "metadata": {},
   "outputs": [],
   "source": [
    "# IV changes for a volatile period +/- 10 days for 2008, 2017 and 2020 crises\n",
    "# get exact dates from previous blogpost"
   ]
  },
  {
   "cell_type": "markdown",
   "id": "26ad4e4c",
   "metadata": {},
   "source": [
    "### Does the volatility smile exist?"
   ]
  },
  {
   "cell_type": "code",
   "execution_count": 34,
   "id": "4b6d23a7",
   "metadata": {},
   "outputs": [],
   "source": [
    "# plot for option price 30 days to expiry with 4 months times 4 years\n",
    "# same expiry date and same days2expiry"
   ]
  },
  {
   "cell_type": "markdown",
   "id": "6ba486b5",
   "metadata": {},
   "source": [
    "### Exploring Convexity"
   ]
  },
  {
   "cell_type": "code",
   "execution_count": 35,
   "id": "2acc2bea",
   "metadata": {},
   "outputs": [],
   "source": [
    "# find periods with > 3SD movement"
   ]
  },
  {
   "cell_type": "code",
   "execution_count": 36,
   "id": "3af20d0f",
   "metadata": {},
   "outputs": [],
   "source": [
    "# Plot change in premium of option that is 2SD OTM - both put and call"
   ]
  },
  {
   "cell_type": "code",
   "execution_count": null,
   "id": "e70aeb33",
   "metadata": {},
   "outputs": [],
   "source": [
    "# plot call and put IV on a single chart\n",
    "# 2 charts - put and call; 90, 45, 30, 15, 5 days out in each chart over all the years\n",
    "\n",
    "# IV changes for a volatile period +/- 10 days for 2008, 2017 and 2020 crises\n",
    "# get exact dates from previous blogpost\n",
    "\n",
    "### Does the volatility smile exist?\n",
    "\n",
    "# plot for option price 30 days to expiry with 4 months times 4 years\n",
    "# same expiry date and same days2expiry\n",
    "\n",
    "### Exploring Convexity\n",
    "\n",
    "# find periods with > 3SD movement\n",
    "\n",
    "# Plot change in premium of option that is 2SD OTM - both put and call"
   ]
  }
 ],
 "metadata": {
  "kernelspec": {
   "display_name": "Python 3",
   "language": "python",
   "name": "python3"
  },
  "language_info": {
   "codemirror_mode": {
    "name": "ipython",
    "version": 3
   },
   "file_extension": ".py",
   "mimetype": "text/x-python",
   "name": "python",
   "nbconvert_exporter": "python",
   "pygments_lexer": "ipython3",
   "version": "3.6.13"
  }
 },
 "nbformat": 4,
 "nbformat_minor": 5
}
